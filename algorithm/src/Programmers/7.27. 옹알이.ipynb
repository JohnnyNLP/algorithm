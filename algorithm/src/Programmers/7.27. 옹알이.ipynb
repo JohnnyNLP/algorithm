{
 "cells": [
  {
   "cell_type": "markdown",
   "id": "011424c1",
   "metadata": {},
   "source": [
    "https://school.programmers.co.kr/learn/courses/30/lessons/120956"
   ]
  },
  {
   "cell_type": "code",
   "execution_count": null,
   "id": "3126699d",
   "metadata": {},
   "outputs": [],
   "source": [
    "def solution(babbling):\n",
    "    answer = 0\n",
    "    word_list = ['aya', 'ye', 'woo', 'ma']\n",
    "    \n",
    "    for bab in babbling:\n",
    "        count = 4\n",
    "        while count != 0 :\n",
    "            for word in word_list:\n",
    "                if bab.startswith(word):\n",
    "                    bab = bab.replace(word, '')\n",
    "            count -= 1\n",
    "            if len(bab) == 0:\n",
    "                answer +=1\n",
    "                break\n",
    "    return answer"
   ]
  },
  {
   "cell_type": "code",
   "execution_count": 1,
   "id": "6a29cb4d",
   "metadata": {},
   "outputs": [],
   "source": [
    "word_list = ['aya', 'ye', 'woo', 'ma']"
   ]
  },
  {
   "cell_type": "code",
   "execution_count": 83,
   "id": "65bcd8a9",
   "metadata": {},
   "outputs": [],
   "source": [
    "babbling = [\"aya\", \"yee\", \"u\", \"maa\", \"wyeoo\"]"
   ]
  },
  {
   "cell_type": "code",
   "execution_count": 75,
   "id": "b269f0e9",
   "metadata": {},
   "outputs": [
    {
     "data": {
      "text/plain": [
       "False"
      ]
     },
     "execution_count": 75,
     "metadata": {},
     "output_type": "execute_result"
    }
   ],
   "source": [
    "'aya' in babbling"
   ]
  },
  {
   "cell_type": "code",
   "execution_count": 36,
   "id": "0ec54a48",
   "metadata": {},
   "outputs": [
    {
     "data": {
      "text/plain": [
       "'yewoo'"
      ]
     },
     "execution_count": 36,
     "metadata": {},
     "output_type": "execute_result"
    }
   ],
   "source": [
    "babbling.startswith('aya')\n",
    "babbling[3:]"
   ]
  },
  {
   "cell_type": "code",
   "execution_count": 54,
   "id": "37444539",
   "metadata": {},
   "outputs": [
    {
     "data": {
      "text/plain": [
       "3"
      ]
     },
     "execution_count": 54,
     "metadata": {},
     "output_type": "execute_result"
    }
   ],
   "source": [
    "len('aya')"
   ]
  },
  {
   "cell_type": "code",
   "execution_count": 91,
   "id": "77efdcbf",
   "metadata": {},
   "outputs": [
    {
     "name": "stdout",
     "output_type": "stream",
     "text": [
      "aya\n",
      "yes\n",
      "yee\n",
      "u\n",
      "maa\n",
      "wyeoo\n"
     ]
    }
   ],
   "source": [
    "answer = 0\n",
    "\n",
    "for bab in babbling:\n",
    "    count = 4\n",
    "    while count != 0 :\n",
    "        for word in word_list:\n",
    "            if bab.startswith(word):\n",
    "                bab = bab.replace(word, '')\n",
    "        count -= 1\n",
    "        if len(bab) == 0:\n",
    "            answer +=1\n",
    "            break"
   ]
  },
  {
   "cell_type": "code",
   "execution_count": 92,
   "id": "73ce812a",
   "metadata": {},
   "outputs": [
    {
     "data": {
      "text/plain": [
       "1"
      ]
     },
     "execution_count": 92,
     "metadata": {},
     "output_type": "execute_result"
    }
   ],
   "source": [
    "answer"
   ]
  },
  {
   "cell_type": "code",
   "execution_count": 66,
   "id": "f13248f4",
   "metadata": {},
   "outputs": [],
   "source": [
    "ex = 'ayayeyo'"
   ]
  },
  {
   "cell_type": "code",
   "execution_count": 68,
   "id": "3787c432",
   "metadata": {},
   "outputs": [
    {
     "data": {
      "text/plain": [
       "'yeyo'"
      ]
     },
     "execution_count": 68,
     "metadata": {},
     "output_type": "execute_result"
    }
   ],
   "source": [
    "ex.replace('aya', '')"
   ]
  },
  {
   "cell_type": "code",
   "execution_count": null,
   "id": "30b34ee0",
   "metadata": {},
   "outputs": [],
   "source": []
  }
 ],
 "metadata": {
  "kernelspec": {
   "display_name": "Python 3",
   "language": "python",
   "name": "python3"
  },
  "language_info": {
   "codemirror_mode": {
    "name": "ipython",
    "version": 3
   },
   "file_extension": ".py",
   "mimetype": "text/x-python",
   "name": "python",
   "nbconvert_exporter": "python",
   "pygments_lexer": "ipython3",
   "version": "3.8.8"
  }
 },
 "nbformat": 4,
 "nbformat_minor": 5
}
