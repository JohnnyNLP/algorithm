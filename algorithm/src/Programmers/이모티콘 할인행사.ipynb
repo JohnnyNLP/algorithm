{
 "cells": [
  {
   "cell_type": "markdown",
   "id": "831af905",
   "metadata": {},
   "source": [
    "https://school.programmers.co.kr/learn/courses/30/lessons/150368"
   ]
  },
  {
   "cell_type": "code",
   "execution_count": 76,
   "id": "1142570d",
   "metadata": {},
   "outputs": [],
   "source": [
    "from itertools import combinations, permutations"
   ]
  },
  {
   "cell_type": "code",
   "execution_count": 5,
   "id": "9c60bb3e",
   "metadata": {},
   "outputs": [],
   "source": [
    "def solution(users, emoticons):\n",
    "    answer = []\n",
    "    return answer"
   ]
  },
  {
   "cell_type": "code",
   "execution_count": 88,
   "id": "d55cda9f",
   "metadata": {},
   "outputs": [],
   "source": [
    "users= [[40, 10000], [25, 10000]]\n",
    "emoticons = [7000, 9000]"
   ]
  },
  {
   "cell_type": "code",
   "execution_count": 18,
   "id": "fcd52525",
   "metadata": {},
   "outputs": [],
   "source": [
    "def fine_ratio(users):\n",
    "    temp = 100\n",
    "    for user in users :\n",
    "        if temp > user[0]:\n",
    "            temp = user[0]\n",
    "    \n",
    "    ratio = []\n",
    "    for i in range(10, 50, 10):\n",
    "        if i > temp :\n",
    "            ratio.append(i)\n",
    "    \n",
    "            \n",
    "    return ratio"
   ]
  },
  {
   "cell_type": "code",
   "execution_count": 90,
   "id": "0989ec6a",
   "metadata": {},
   "outputs": [
    {
     "name": "stdout",
     "output_type": "stream",
     "text": [
      "[30, 40]\n"
     ]
    }
   ],
   "source": [
    "ratio = fine_ratio(users)\n",
    "print(ratio)"
   ]
  },
  {
   "cell_type": "code",
   "execution_count": 97,
   "id": "3ce891ab",
   "metadata": {},
   "outputs": [],
   "source": [
    "price_list={x:[] for x in range(0, len(emoticons))}\n",
    "    \n",
    "for i in range(0, len(emoticons)):\n",
    "    for j in ratio:\n",
    "        price_list[i].append((j, int(emoticons[i] * (100-j) / 100)))"
   ]
  },
  {
   "cell_type": "code",
   "execution_count": 95,
   "id": "db31deac",
   "metadata": {},
   "outputs": [],
   "source": [
    "price_list=[]\n",
    "    \n",
    "for i in range(0, len(emoticons)):\n",
    "    price_list.append([])\n",
    "    for j in ratio:\n",
    "        price_list[i].append((j, int(emoticons[i] * (100-j) / 100)))"
   ]
  },
  {
   "cell_type": "code",
   "execution_count": 98,
   "id": "ff7db7bf",
   "metadata": {},
   "outputs": [
    {
     "data": {
      "text/plain": [
       "{0: [(30, 4900), (40, 4200)], 1: [(30, 6300), (40, 5400)]}"
      ]
     },
     "execution_count": 98,
     "metadata": {},
     "output_type": "execute_result"
    }
   ],
   "source": [
    "price_list"
   ]
  },
  {
   "cell_type": "code",
   "execution_count": 99,
   "id": "e9aa02ec",
   "metadata": {},
   "outputs": [],
   "source": [
    "comb = set()"
   ]
  },
  {
   "cell_type": "code",
   "execution_count": 105,
   "id": "e161cfe6",
   "metadata": {},
   "outputs": [],
   "source": [
    "a = [0, 1]\n",
    "b = [0, 1]\n",
    "comb = set(combinations(a+b, 2))"
   ]
  },
  {
   "cell_type": "code",
   "execution_count": 106,
   "id": "fe39901b",
   "metadata": {},
   "outputs": [
    {
     "data": {
      "text/plain": [
       "{(0, 0), (0, 1), (1, 0), (1, 1)}"
      ]
     },
     "execution_count": 106,
     "metadata": {},
     "output_type": "execute_result"
    }
   ],
   "source": [
    "comb"
   ]
  },
  {
   "cell_type": "code",
   "execution_count": 108,
   "id": "2c18e282",
   "metadata": {},
   "outputs": [],
   "source": [
    "price_combinations = []"
   ]
  },
  {
   "cell_type": "code",
   "execution_count": 107,
   "id": "ff1849de",
   "metadata": {},
   "outputs": [
    {
     "name": "stdout",
     "output_type": "stream",
     "text": [
      "0 1\n",
      "1 0\n",
      "1 1\n",
      "0 0\n"
     ]
    }
   ],
   "source": [
    "for i, j in comb:\n",
    "    price_combinations.append(price_list[i])"
   ]
  },
  {
   "cell_type": "code",
   "execution_count": null,
   "id": "41f2e95c",
   "metadata": {},
   "outputs": [],
   "source": []
  },
  {
   "cell_type": "code",
   "execution_count": null,
   "id": "423bf35e",
   "metadata": {},
   "outputs": [],
   "source": [
    "for emo in price_list:\n",
    "    emo"
   ]
  }
 ],
 "metadata": {
  "kernelspec": {
   "display_name": "Python 3",
   "language": "python",
   "name": "python3"
  },
  "language_info": {
   "codemirror_mode": {
    "name": "ipython",
    "version": 3
   },
   "file_extension": ".py",
   "mimetype": "text/x-python",
   "name": "python",
   "nbconvert_exporter": "python",
   "pygments_lexer": "ipython3",
   "version": "3.8.8"
  }
 },
 "nbformat": 4,
 "nbformat_minor": 5
}
