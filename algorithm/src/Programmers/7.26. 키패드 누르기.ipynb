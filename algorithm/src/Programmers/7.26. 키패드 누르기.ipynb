{
 "cells": [
  {
   "cell_type": "markdown",
   "id": "4ad8b497",
   "metadata": {},
   "source": [
    "https://school.programmers.co.kr/learn/courses/30/lessons/67256"
   ]
  },
  {
   "cell_type": "code",
   "execution_count": 33,
   "id": "303bc9b5",
   "metadata": {},
   "outputs": [],
   "source": [
    "def solution(numbers, hand):\n",
    "    answer = ''\n",
    "    num_dict = {1:(-1, 1),  2:(0, 1),  3:(1, 1),\n",
    "           4:(-1, 0),  5:(0, 0),  6:(1, 0),\n",
    "           7:(-1, -1), 8:(0, -1), 9:(1, -1),\n",
    "                       0:(0, -2)}\n",
    "    l_loc = (-1, -2)\n",
    "    r_loc = (1, -2)\n",
    "    \n",
    "    for i in numbers:\n",
    "    \n",
    "        if i in [1, 4, 7]:\n",
    "            answer += 'L'\n",
    "            l_loc = num_dict.get(i)\n",
    "\n",
    "        elif i in [3, 6, 9]:\n",
    "            answer += 'R'\n",
    "            r_loc = num_dict.get(i)\n",
    "\n",
    "        else: #2, 5, 8, 0\n",
    "            num_loc = num_dict.get(i)\n",
    "            l_dis = abs(l_loc[0]-num_loc[0])+abs(l_loc[1]-num_loc[1])\n",
    "            r_dis = abs(r_loc[0]-num_loc[0])+abs(r_loc[1]-num_loc[1])\n",
    "\n",
    "            if (l_dis > r_dis) or (l_dis == r_dis and hand == 'right'):\n",
    "                answer += 'R'\n",
    "                r_loc = num_dict.get(i)\n",
    "            else:\n",
    "                answer += 'L'\n",
    "                l_loc = num_dict.get(i)\n",
    "    \n",
    "    return answer"
   ]
  },
  {
   "cell_type": "code",
   "execution_count": 50,
   "id": "212f1724",
   "metadata": {},
   "outputs": [],
   "source": [
    "answer = ''\n",
    "numbers = [7, 0, 8, 2, 8, 3, 1, 5, 7, 6, 2]\n",
    "hand = \"left\""
   ]
  },
  {
   "cell_type": "code",
   "execution_count": 51,
   "id": "554876e1",
   "metadata": {},
   "outputs": [],
   "source": [
    "num_dict = {1:(-1, 1),  2:(0, 1),  3:(1, 1),\n",
    "           4:(-1, 0),  5:(0, 0),  6:(1, 0),\n",
    "           7:(-1, -1), 8:(0, -1), 9:(1, -1),\n",
    "                       0:(0, -2)}\n",
    "l_loc = (-1, -2)\n",
    "r_loc = (1, -2)"
   ]
  },
  {
   "cell_type": "code",
   "execution_count": 52,
   "id": "b9be56d8",
   "metadata": {},
   "outputs": [
    {
     "name": "stdout",
     "output_type": "stream",
     "text": [
      "7 L\n",
      "3 LRLLRR\n",
      "1 LRLLRRL\n",
      "7 LRLLRRLLL\n",
      "6 LRLLRRLLLR\n"
     ]
    }
   ],
   "source": [
    "for i in numbers:\n",
    "    \n",
    "    if i in [1, 4, 7]:\n",
    "        answer += 'L'\n",
    "        l_loc = num_dict.get(i)\n",
    "        \n",
    "    elif i in [3, 6, 9]:\n",
    "        answer += 'R'\n",
    "        r_loc = num_dict.get(i)\n",
    "        \n",
    "    else: #2, 5, 8, 0\n",
    "        num_loc = num_dict.get(i)\n",
    "        l_dis = abs(l_loc[0]-num_loc[0])+abs(l_loc[1]-num_loc[1])\n",
    "        r_dis = abs(r_loc[0]-num_loc[0])+abs(r_loc[1]-num_loc[1])\n",
    "        \n",
    "        if (l_dis > r_dis) or (l_dis == r_dis and hand == 'right'):\n",
    "            answer += 'R'\n",
    "            r_loc = num_dict.get(i)\n",
    "        else:\n",
    "            answer += 'L'\n",
    "            l_loc = num_dict.get(i)"
   ]
  },
  {
   "cell_type": "code",
   "execution_count": 53,
   "id": "07108829",
   "metadata": {},
   "outputs": [
    {
     "data": {
      "text/plain": [
       "'LRLLRRLLLRR'"
      ]
     },
     "execution_count": 53,
     "metadata": {},
     "output_type": "execute_result"
    }
   ],
   "source": [
    "answer"
   ]
  },
  {
   "cell_type": "code",
   "execution_count": 44,
   "id": "eebb9a4b",
   "metadata": {},
   "outputs": [],
   "source": [
    "def get_thumb(num_loc, l_loc, r_loc, hand):\n",
    "    l_dis = abs(l_loc[0]-num_loc[0])+abs(l_loc[1]-num_loc[1])\n",
    "    r_dis = abs(r_loc[0]-num_loc[0])+abs(r_loc[1]-num_loc[1])\n",
    "    print('숫자 위치', num_loc, '왼손', l_loc, '오른손', r_loc)\n",
    "    if l_dis > r_dis:\n",
    "        return 'R'\n",
    "    elif l_dis < r_dis:\n",
    "        return 'L'\n",
    "    elif l_dis == r_dis and hand == 'right':\n",
    "        return 'R'\n",
    "    else:\n",
    "        return 'L'        "
   ]
  },
  {
   "cell_type": "code",
   "execution_count": null,
   "id": "6f87de46",
   "metadata": {},
   "outputs": [],
   "source": []
  },
  {
   "cell_type": "code",
   "execution_count": null,
   "id": "14f01f32",
   "metadata": {},
   "outputs": [],
   "source": []
  },
  {
   "cell_type": "code",
   "execution_count": null,
   "id": "3b3bca91",
   "metadata": {},
   "outputs": [],
   "source": []
  }
 ],
 "metadata": {
  "kernelspec": {
   "display_name": "Python 3",
   "language": "python",
   "name": "python3"
  },
  "language_info": {
   "codemirror_mode": {
    "name": "ipython",
    "version": 3
   },
   "file_extension": ".py",
   "mimetype": "text/x-python",
   "name": "python",
   "nbconvert_exporter": "python",
   "pygments_lexer": "ipython3",
   "version": "3.8.8"
  }
 },
 "nbformat": 4,
 "nbformat_minor": 5
}
