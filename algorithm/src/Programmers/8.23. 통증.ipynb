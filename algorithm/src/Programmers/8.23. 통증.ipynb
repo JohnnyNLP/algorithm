{
 "cells": [
  {
   "cell_type": "markdown",
   "id": "4ad970ca",
   "metadata": {},
   "source": [
    "https://level.goorm.io/exam/195690/%ED%86%B5%EC%A6%9D/quiz/1"
   ]
  },
  {
   "cell_type": "code",
   "execution_count": 2,
   "id": "756683d1",
   "metadata": {},
   "outputs": [],
   "source": [
    "n=100"
   ]
  },
  {
   "cell_type": "code",
   "execution_count": 6,
   "id": "56944e01",
   "metadata": {},
   "outputs": [],
   "source": [
    "rem_pain = n\n",
    "a=1\n",
    "b=7\n",
    "c=14\n",
    "\n",
    "c_count = 100//c"
   ]
  },
  {
   "cell_type": "code",
   "execution_count": 7,
   "id": "82ffa867",
   "metadata": {},
   "outputs": [],
   "source": [
    "rem_pain -= c_count*c"
   ]
  },
  {
   "cell_type": "code",
   "execution_count": 8,
   "id": "df9741bf",
   "metadata": {},
   "outputs": [
    {
     "data": {
      "text/plain": [
       "2"
      ]
     },
     "execution_count": 8,
     "metadata": {},
     "output_type": "execute_result"
    }
   ],
   "source": [
    "rem_pain"
   ]
  },
  {
   "cell_type": "code",
   "execution_count": 9,
   "id": "3a15d1b9",
   "metadata": {},
   "outputs": [],
   "source": [
    "b_count = rem_pain//b"
   ]
  },
  {
   "cell_type": "code",
   "execution_count": 11,
   "id": "14e9bc27",
   "metadata": {},
   "outputs": [],
   "source": [
    "rem_pain -= b_count*b"
   ]
  },
  {
   "cell_type": "code",
   "execution_count": 14,
   "id": "0b7a6328",
   "metadata": {},
   "outputs": [],
   "source": [
    "a_count = rem_pain // a"
   ]
  },
  {
   "cell_type": "code",
   "execution_count": null,
   "id": "8e47e0a4",
   "metadata": {},
   "outputs": [],
   "source": []
  }
 ],
 "metadata": {
  "kernelspec": {
   "display_name": "Python 3",
   "language": "python",
   "name": "python3"
  },
  "language_info": {
   "codemirror_mode": {
    "name": "ipython",
    "version": 3
   },
   "file_extension": ".py",
   "mimetype": "text/x-python",
   "name": "python",
   "nbconvert_exporter": "python",
   "pygments_lexer": "ipython3",
   "version": "3.8.8"
  }
 },
 "nbformat": 4,
 "nbformat_minor": 5
}
