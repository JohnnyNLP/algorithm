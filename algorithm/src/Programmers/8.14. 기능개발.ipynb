{
 "cells": [
  {
   "cell_type": "markdown",
   "id": "1496981e",
   "metadata": {},
   "source": [
    "https://school.programmers.co.kr/learn/courses/30/lessons/42586"
   ]
  },
  {
   "cell_type": "code",
   "execution_count": 27,
   "id": "a5b2f489",
   "metadata": {},
   "outputs": [],
   "source": [
    "import math\n",
    "\n",
    "def solution(progresses, speeds):\n",
    "    answer = []\n",
    "    stack = []\n",
    "    days_remaining = [0] * len(progresses)\n",
    "    \n",
    "    # 남은 날짜 수 계산\n",
    "    for i in range(len(progresses)):\n",
    "        days_remaining[i] = math.ceil((100-progresses[i]) / speeds[i])\n",
    "    \n",
    "    # 스택 구조 구현\n",
    "    for i in range(len(days_remaining)):\n",
    "        if stack and days_remaining[i] > days_remaining[stack[0]]:\n",
    "            answer.append(len(stack))\n",
    "            stack.clear()\n",
    "\n",
    "        stack.append(i)\n",
    "\n",
    "    # 남은 스택 비우기\n",
    "    answer.append(len(stack))\n",
    "    \n",
    "    return answer"
   ]
  },
  {
   "cell_type": "code",
   "execution_count": 21,
   "id": "4859568f",
   "metadata": {},
   "outputs": [],
   "source": [
    "progresses = [95, 90, 99, 99, 80, 99]\n",
    "speeds = [1, 1, 1, 1, 1, 1]"
   ]
  },
  {
   "cell_type": "code",
   "execution_count": 22,
   "id": "cdcd4245",
   "metadata": {},
   "outputs": [],
   "source": [
    "import math\n",
    "\n",
    "days_remaining = [0] * len(progresses)"
   ]
  },
  {
   "cell_type": "code",
   "execution_count": 23,
   "id": "d4e6711b",
   "metadata": {},
   "outputs": [],
   "source": [
    "# 남은 날짜 수 계산\n",
    "for i in range(len(progresses)):\n",
    "    days_remaining[i] = math.ceil((100-progresses[i]) / speeds[i])"
   ]
  },
  {
   "cell_type": "code",
   "execution_count": 24,
   "id": "b8945fb5",
   "metadata": {},
   "outputs": [
    {
     "data": {
      "text/plain": [
       "[5, 10, 1, 1, 20, 1]"
      ]
     },
     "execution_count": 24,
     "metadata": {},
     "output_type": "execute_result"
    }
   ],
   "source": [
    "days_remaining"
   ]
  },
  {
   "cell_type": "code",
   "execution_count": 31,
   "id": "99b84dcf",
   "metadata": {},
   "outputs": [
    {
     "name": "stdout",
     "output_type": "stream",
     "text": [
      "5\n",
      "10\n"
     ]
    }
   ],
   "source": [
    "answer = []\n",
    "stack = []\n",
    "\n",
    "# 스택 구조 구현\n",
    "for i in range(len(days_remaining)):\n",
    "    if stack and days_remaining[i] > days_remaining[stack[0]]:\n",
    "        print(days_remaining[stack[0]])\n",
    "        answer.append(len(stack))\n",
    "        stack.clear()\n",
    "        \n",
    "    stack.append(i)\n",
    "\n",
    "# 남은 스택 비우기\n",
    "answer.append(len(stack))"
   ]
  },
  {
   "cell_type": "code",
   "execution_count": 29,
   "id": "03d1770b",
   "metadata": {},
   "outputs": [
    {
     "data": {
      "text/plain": [
       "[1, 3, 2]"
      ]
     },
     "execution_count": 29,
     "metadata": {},
     "output_type": "execute_result"
    }
   ],
   "source": [
    "answer"
   ]
  },
  {
   "cell_type": "code",
   "execution_count": 1,
   "id": "bce279a5",
   "metadata": {},
   "outputs": [],
   "source": []
  },
  {
   "cell_type": "code",
   "execution_count": null,
   "id": "65f912a5",
   "metadata": {},
   "outputs": [],
   "source": []
  }
 ],
 "metadata": {
  "kernelspec": {
   "display_name": "Python 3",
   "language": "python",
   "name": "python3"
  },
  "language_info": {
   "codemirror_mode": {
    "name": "ipython",
    "version": 3
   },
   "file_extension": ".py",
   "mimetype": "text/x-python",
   "name": "python",
   "nbconvert_exporter": "python",
   "pygments_lexer": "ipython3",
   "version": "3.8.8"
  }
 },
 "nbformat": 4,
 "nbformat_minor": 5
}
