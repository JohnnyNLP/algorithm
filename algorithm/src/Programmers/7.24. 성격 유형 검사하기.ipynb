{
 "cells": [
  {
   "cell_type": "markdown",
   "id": "dfca39ce",
   "metadata": {},
   "source": [
    "https://school.programmers.co.kr/learn/courses/30/lessons/118666"
   ]
  },
  {
   "cell_type": "code",
   "execution_count": 53,
   "id": "3d9aca74",
   "metadata": {},
   "outputs": [],
   "source": [
    "def solution(survey, choices):\n",
    "    answer = ''\n",
    "    d = {'R': [0, 'T'], 'C': [0, 'F'] , 'J':[0, 'M'], 'A': [0, 'N']}\n",
    "    for sur, sco in zip(survey, choices):\n",
    "        # R, C, J, A로 시작하는 문항\n",
    "        if sur[0] in d:\n",
    "            d[sur[0]][0] += 4-sco\n",
    "        # T, F, M, N로 시작하는 문항\n",
    "        else:\n",
    "            d[sur[1]][0] += sco-4\n",
    "            \n",
    "    for key, val in d.items() :\n",
    "        if val[0] >= 0 :\n",
    "            answer += key\n",
    "        else :\n",
    "            answer += val[1]\n",
    "    \n",
    "    return answer"
   ]
  },
  {
   "cell_type": "code",
   "execution_count": 54,
   "id": "a305b1b9",
   "metadata": {},
   "outputs": [],
   "source": [
    "d = {'R': [0, 'T'], 'C': [0, 'F'] , 'J':[0, 'M'], 'A': [0, 'N']}"
   ]
  },
  {
   "cell_type": "code",
   "execution_count": 57,
   "id": "d5aae0f3",
   "metadata": {},
   "outputs": [],
   "source": [
    "survey = [\"TR\", \"RT\", \"TR\"]\n",
    "choices = [7, 1, 3]\t"
   ]
  },
  {
   "cell_type": "code",
   "execution_count": 58,
   "id": "a38e1032",
   "metadata": {},
   "outputs": [
    {
     "data": {
      "text/plain": [
       "'RCJA'"
      ]
     },
     "execution_count": 58,
     "metadata": {},
     "output_type": "execute_result"
    }
   ],
   "source": [
    "solution(survey, choices)"
   ]
  },
  {
   "cell_type": "code",
   "execution_count": null,
   "id": "38ba31d3",
   "metadata": {},
   "outputs": [],
   "source": []
  }
 ],
 "metadata": {
  "kernelspec": {
   "display_name": "Python 3",
   "language": "python",
   "name": "python3"
  },
  "language_info": {
   "codemirror_mode": {
    "name": "ipython",
    "version": 3
   },
   "file_extension": ".py",
   "mimetype": "text/x-python",
   "name": "python",
   "nbconvert_exporter": "python",
   "pygments_lexer": "ipython3",
   "version": "3.8.8"
  }
 },
 "nbformat": 4,
 "nbformat_minor": 5
}
