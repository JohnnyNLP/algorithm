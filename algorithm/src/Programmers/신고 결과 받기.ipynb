{
 "cells": [
  {
   "cell_type": "markdown",
   "id": "851fc2b8",
   "metadata": {},
   "source": [
    "https://school.programmers.co.kr/learn/courses/30/lessons/92334"
   ]
  },
  {
   "cell_type": "code",
   "execution_count": null,
   "id": "4aa73068",
   "metadata": {},
   "outputs": [],
   "source": [
    "def solution(id_list, report, k):\n",
    "    answer = []\n",
    "    users_reported = {}\n",
    "    \n",
    "    # 자신을 신고한 사람들 명단, 신고한 수, 신고 받은 수, 받을 알람 수\n",
    "    for id in id_list:\n",
    "        users_reported[id] = [[], 0, 0, 0]\n",
    "    \n",
    "    # 중복 신고 제거\n",
    "    report = list(set(report))\n",
    "    \n",
    "    # 신고 처리\n",
    "    for report in report :\n",
    "        reporter = report.split()[0]\n",
    "        reported = report.split()[1]\n",
    "        users_reported[reported][0].append(reporter)\n",
    "        users_reported[reporter][1] += 1\n",
    "        users_reported[reported][2] += 1\n",
    "    \n",
    "    # 신고 수 판단\n",
    "    for users in users_reported:\n",
    "        if users_reported[users][2] >= k:\n",
    "            for reporter in users_reported[users][0]:\n",
    "                users_reported[reporter][3] += 1\n",
    "\n",
    "    # 결과 도출\n",
    "    for users in users_reported:\n",
    "        answer.append(users_reported[users][3])\n",
    "                \n",
    "    return answer"
   ]
  },
  {
   "cell_type": "code",
   "execution_count": 220,
   "id": "24fdac22",
   "metadata": {},
   "outputs": [],
   "source": [
    "id_list= [\"muzi\", \"frodo\", \"apeach\", \"neo\"]\n",
    "report = [\"muzi frodo\",\"apeach frodo\",\"frodo neo\",\"muzi neo\",\"apeach muzi\"]\n",
    "k = 2"
   ]
  },
  {
   "cell_type": "code",
   "execution_count": 221,
   "id": "89b82c12",
   "metadata": {},
   "outputs": [],
   "source": [
    "users_reported = {}\n",
    "for id in id_list:\n",
    "    users_reported[id] = [[], 0, 0, 0]"
   ]
  },
  {
   "cell_type": "code",
   "execution_count": 222,
   "id": "9ff01764",
   "metadata": {},
   "outputs": [
    {
     "name": "stdout",
     "output_type": "stream",
     "text": [
      "['muzi neo', 'muzi frodo', 'apeach frodo', 'frodo neo', 'apeach muzi']\n"
     ]
    }
   ],
   "source": [
    "report = list(set(report))\n",
    "print(report)"
   ]
  },
  {
   "cell_type": "code",
   "execution_count": 223,
   "id": "e281bbd7",
   "metadata": {},
   "outputs": [],
   "source": [
    "for report in report :\n",
    "    reporter = report.split()[0]\n",
    "    reported = report.split()[1]\n",
    "    users_reported[reported][0].append(reporter)\n",
    "    users_reported[reporter][1] += 1\n",
    "    users_reported[reported][2] += 1"
   ]
  },
  {
   "cell_type": "code",
   "execution_count": 224,
   "id": "732264f4",
   "metadata": {},
   "outputs": [
    {
     "data": {
      "text/plain": [
       "{'muzi': [['apeach'], 2, 1, 0],\n",
       " 'frodo': [['muzi', 'apeach'], 1, 2, 0],\n",
       " 'apeach': [[], 2, 0, 0],\n",
       " 'neo': [['muzi', 'frodo'], 0, 2, 0]}"
      ]
     },
     "execution_count": 224,
     "metadata": {},
     "output_type": "execute_result"
    }
   ],
   "source": [
    "users_reported"
   ]
  },
  {
   "cell_type": "code",
   "execution_count": 225,
   "id": "f226fc04",
   "metadata": {},
   "outputs": [],
   "source": [
    "for users in users_reported:\n",
    "    if users_reported[users][2] >= k:\n",
    "        for reporter in users_reported[users][0]:\n",
    "            users_reported[reporter][3] += 1"
   ]
  },
  {
   "cell_type": "code",
   "execution_count": 226,
   "id": "2bd9d07b",
   "metadata": {},
   "outputs": [
    {
     "data": {
      "text/plain": [
       "{'muzi': [['apeach'], 2, 1, 2],\n",
       " 'frodo': [['muzi', 'apeach'], 1, 2, 1],\n",
       " 'apeach': [[], 2, 0, 1],\n",
       " 'neo': [['muzi', 'frodo'], 0, 2, 0]}"
      ]
     },
     "execution_count": 226,
     "metadata": {},
     "output_type": "execute_result"
    }
   ],
   "source": [
    "users_reported"
   ]
  },
  {
   "cell_type": "code",
   "execution_count": 217,
   "id": "56915799",
   "metadata": {},
   "outputs": [],
   "source": [
    "answer=[]"
   ]
  },
  {
   "cell_type": "code",
   "execution_count": 218,
   "id": "d4b8f060",
   "metadata": {},
   "outputs": [],
   "source": [
    "for users in users_reported:\n",
    "    answer.append(users_reported[users][3])"
   ]
  },
  {
   "cell_type": "code",
   "execution_count": 219,
   "id": "83632fcf",
   "metadata": {},
   "outputs": [
    {
     "data": {
      "text/plain": [
       "[2, 1, 1, 0]"
      ]
     },
     "execution_count": 219,
     "metadata": {},
     "output_type": "execute_result"
    }
   ],
   "source": [
    "answer"
   ]
  },
  {
   "cell_type": "code",
   "execution_count": null,
   "id": "a0492ea1",
   "metadata": {},
   "outputs": [],
   "source": []
  }
 ],
 "metadata": {
  "kernelspec": {
   "display_name": "Python 3",
   "language": "python",
   "name": "python3"
  },
  "language_info": {
   "codemirror_mode": {
    "name": "ipython",
    "version": 3
   },
   "file_extension": ".py",
   "mimetype": "text/x-python",
   "name": "python",
   "nbconvert_exporter": "python",
   "pygments_lexer": "ipython3",
   "version": "3.8.8"
  }
 },
 "nbformat": 4,
 "nbformat_minor": 5
}
