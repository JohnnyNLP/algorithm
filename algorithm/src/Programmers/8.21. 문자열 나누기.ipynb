{
 "cells": [
  {
   "cell_type": "markdown",
   "id": "b87133c1",
   "metadata": {},
   "source": [
    "https://level.goorm.io/exam/195688/%EB%AC%B8%EC%9E%90%EC%97%B4-%EB%82%98%EB%88%84%EA%B8%B0/quiz/1"
   ]
  },
  {
   "cell_type": "code",
   "execution_count": 109,
   "id": "f2b61a10",
   "metadata": {},
   "outputs": [],
   "source": [
    "n=3\n",
    "s='aaz'"
   ]
  },
  {
   "cell_type": "code",
   "execution_count": 110,
   "id": "0977df80",
   "metadata": {},
   "outputs": [
    {
     "data": {
      "text/plain": [
       "'a'"
      ]
     },
     "execution_count": 110,
     "metadata": {},
     "output_type": "execute_result"
    }
   ],
   "source": [
    "s[:1]"
   ]
  },
  {
   "cell_type": "code",
   "execution_count": 111,
   "id": "c19efc9c",
   "metadata": {},
   "outputs": [
    {
     "data": {
      "text/plain": [
       "'a'"
      ]
     },
     "execution_count": 111,
     "metadata": {},
     "output_type": "execute_result"
    }
   ],
   "source": [
    "s[1:2]"
   ]
  },
  {
   "cell_type": "code",
   "execution_count": 112,
   "id": "ce9de808",
   "metadata": {},
   "outputs": [
    {
     "data": {
      "text/plain": [
       "'z'"
      ]
     },
     "execution_count": 112,
     "metadata": {},
     "output_type": "execute_result"
    }
   ],
   "source": [
    "s[2:]"
   ]
  },
  {
   "cell_type": "code",
   "execution_count": 113,
   "id": "fe925fbe",
   "metadata": {},
   "outputs": [
    {
     "name": "stdout",
     "output_type": "stream",
     "text": [
      "a a z\n"
     ]
    }
   ],
   "source": [
    "for l in range(1, n-1):\n",
    "    for r in range(2, n):\n",
    "        if l != r:\n",
    "            print(s[:l], s[l:r], s[r:])"
   ]
  },
  {
   "cell_type": "code",
   "execution_count": 114,
   "id": "65c26059",
   "metadata": {},
   "outputs": [],
   "source": [
    "comb = []"
   ]
  },
  {
   "cell_type": "code",
   "execution_count": 115,
   "id": "573eace4",
   "metadata": {},
   "outputs": [],
   "source": [
    "for l in range(1, n-1):\n",
    "    for r in range(2, n):\n",
    "        if l != r:\n",
    "            comb.append(s[:l])\n",
    "            comb.append(s[l:r])\n",
    "            comb.append(s[r:])"
   ]
  },
  {
   "cell_type": "code",
   "execution_count": 116,
   "id": "1fc24dd0",
   "metadata": {},
   "outputs": [],
   "source": [
    "all_comb = sorted(list(set(comb)))"
   ]
  },
  {
   "cell_type": "code",
   "execution_count": 117,
   "id": "ea500dbc",
   "metadata": {},
   "outputs": [
    {
     "data": {
      "text/plain": [
       "'z'"
      ]
     },
     "execution_count": 117,
     "metadata": {},
     "output_type": "execute_result"
    }
   ],
   "source": [
    "s[-1]"
   ]
  },
  {
   "cell_type": "code",
   "execution_count": 118,
   "id": "10a62292",
   "metadata": {},
   "outputs": [
    {
     "name": "stdout",
     "output_type": "stream",
     "text": [
      "1\n",
      "1\n",
      "2\n"
     ]
    }
   ],
   "source": [
    "print(all_comb.index(s[:-2])+1)\n",
    "print(all_comb.index(s[-2])+1)\n",
    "print(all_comb.index(s[-1])+1)"
   ]
  },
  {
   "cell_type": "code",
   "execution_count": null,
   "id": "a3844cbf",
   "metadata": {},
   "outputs": [],
   "source": []
  },
  {
   "cell_type": "code",
   "execution_count": null,
   "id": "40657b3d",
   "metadata": {},
   "outputs": [],
   "source": []
  }
 ],
 "metadata": {
  "kernelspec": {
   "display_name": "Python 3",
   "language": "python",
   "name": "python3"
  },
  "language_info": {
   "codemirror_mode": {
    "name": "ipython",
    "version": 3
   },
   "file_extension": ".py",
   "mimetype": "text/x-python",
   "name": "python",
   "nbconvert_exporter": "python",
   "pygments_lexer": "ipython3",
   "version": "3.8.8"
  }
 },
 "nbformat": 4,
 "nbformat_minor": 5
}
