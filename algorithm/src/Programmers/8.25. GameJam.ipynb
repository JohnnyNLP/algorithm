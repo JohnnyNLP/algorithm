{
 "cells": [
  {
   "cell_type": "code",
   "execution_count": 263,
   "id": "fdd79db4",
   "metadata": {},
   "outputs": [
    {
     "name": "stdout",
     "output_type": "stream",
     "text": [
      "4\n",
      "4 2\n",
      "2 4\n",
      "1L 3D 3L 1U\n",
      "2D 2L 4U 1U\n",
      "2D 2L 4U 3L\n",
      "4D 4D 1R 4R\n"
     ]
    }
   ],
   "source": [
    "# -*- coding: utf-8 -*-\n",
    "# UTF-8 encoding when using korean\n",
    "n = int(input())\n",
    "gr, gc = map(int, input().split())\n",
    "pr, pc = map(int, input().split())\n",
    "\n",
    "comms = []\n",
    "\n",
    "comms += [[0]*(n+2)]\n",
    "for i in range(n):\n",
    "    comms += [[0]+input().split()+[0]]\n",
    "comms += [[0]*(n+2)]"
   ]
  },
  {
   "cell_type": "code",
   "execution_count": 280,
   "id": "a9a1093c",
   "metadata": {},
   "outputs": [],
   "source": [
    "def move(r, c, m, steps):\n",
    "    \n",
    "    while m[r][c] < 2:\n",
    "        comm = comms[r][c]\n",
    "        movement = int(comm[:-1])\n",
    "        direction = comm[-1]\n",
    "        \n",
    "        for step in range(movement):\n",
    "            # 스텝 당 한 칸씩 이동하고 값 추가\n",
    "            if direction == 'L':\n",
    "                c -= 1\n",
    "                m[r][c] += 1\n",
    "            elif direction == 'R':\n",
    "                c += 1\n",
    "                m[r][c] += 1\n",
    "            elif direction == 'D':\n",
    "                r += 1\n",
    "                m[r][c] += 1\n",
    "            elif direction == 'U':\n",
    "                r -= 1\n",
    "                m[r][c] += 1\n",
    "            # 이동했으니 카운트\n",
    "            steps += 1\n",
    "\n",
    "            # 상하좌우 끝 지점에 도달했을 때의 액션\n",
    "            if c == 0: # 왼쪽 끝에 도달\n",
    "                m[r][c] = 0\n",
    "                c = n\n",
    "                m[r][c] += 1\n",
    "            elif c == n+1: # 오른쪽 끝에 도달\n",
    "                m[r][c] = 0\n",
    "                c = 1\n",
    "                m[r][c] += 1\n",
    "            elif r == 0: # 위쪽 끝에 도달\n",
    "                m[r][c] = 0\n",
    "                r = n\n",
    "                m[r][c] += 1\n",
    "            elif r == n+1: # 아래쪽 끝에 도달\n",
    "                m[r][c] = 0\n",
    "                r = 1\n",
    "                m[r][c] += 1\n",
    "        \n",
    "        # for문에 걸려서 계속해서 도는 경우 방지\n",
    "        if m[r][c] >= 2 :\n",
    "            steps -= 1\n",
    "            break\n",
    "#             # 맵에 시각화\n",
    "#             for line in m:\n",
    "#                 print(movement, line)\n",
    "#             print(r, c)\n",
    "        \n",
    "    return m, steps"
   ]
  },
  {
   "cell_type": "code",
   "execution_count": 281,
   "id": "459ef288",
   "metadata": {},
   "outputs": [],
   "source": [
    "gr=pc=4\n",
    "pr=gc=2"
   ]
  },
  {
   "cell_type": "code",
   "execution_count": 282,
   "id": "07b8c01f",
   "metadata": {},
   "outputs": [],
   "source": [
    "g_map = []\n",
    "p_map = []\n",
    "\n",
    "for i in range(n+2):\n",
    "    g_map += [[0]*(n+2)]\n",
    "    p_map += [[0]*(n+2)]    "
   ]
  },
  {
   "cell_type": "code",
   "execution_count": 283,
   "id": "eee9f2dc",
   "metadata": {},
   "outputs": [],
   "source": [
    "g_map[gr][gc] += 1\n",
    "g_steps = 1\n",
    "p_map[pr][pc] += 1\n",
    "p_steps = 1"
   ]
  },
  {
   "cell_type": "code",
   "execution_count": null,
   "id": "db8ceda2",
   "metadata": {},
   "outputs": [],
   "source": []
  },
  {
   "cell_type": "code",
   "execution_count": 284,
   "id": "5bf67c86",
   "metadata": {},
   "outputs": [
    {
     "name": "stdout",
     "output_type": "stream",
     "text": [
      "4 2\n",
      "4\n"
     ]
    }
   ],
   "source": [
    "g_map, g_steps = move(gr, gc, g_map, g_steps)\n",
    "print(g_steps)"
   ]
  },
  {
   "cell_type": "code",
   "execution_count": 285,
   "id": "d389b3fd",
   "metadata": {},
   "outputs": [
    {
     "name": "stdout",
     "output_type": "stream",
     "text": [
      "1 4\n",
      "4 4\n",
      "4 4\n",
      "6\n"
     ]
    }
   ],
   "source": [
    "p_map, p_steps = move(pr, pc, p_map, p_steps)\n",
    "print(p_steps)"
   ]
  },
  {
   "cell_type": "code",
   "execution_count": 224,
   "id": "22f1da53",
   "metadata": {},
   "outputs": [],
   "source": []
  },
  {
   "cell_type": "code",
   "execution_count": 225,
   "id": "30a96236",
   "metadata": {},
   "outputs": [
    {
     "name": "stdout",
     "output_type": "stream",
     "text": [
      "1 [0, 0, 0, 0, 0, 0]\n",
      "1 [0, 0, 0, 0, 3, 0]\n",
      "1 [0, 0, 0, 0, 1, 0]\n",
      "1 [0, 0, 0, 0, 0, 0]\n",
      "1 [0, 1, 1, 1, 2, 0]\n",
      "1 [0, 0, 0, 0, 0, 0]\n",
      "1 4\n"
     ]
    }
   ],
   "source": [
    "p_map = move(pr, pc, p_map)\n",
    "p_count = count_steps(n, p_map)"
   ]
  },
  {
   "cell_type": "code",
   "execution_count": 226,
   "id": "e35f6b43",
   "metadata": {},
   "outputs": [
    {
     "data": {
      "text/plain": [
       "8"
      ]
     },
     "execution_count": 226,
     "metadata": {},
     "output_type": "execute_result"
    }
   ],
   "source": [
    "p_count"
   ]
  },
  {
   "cell_type": "code",
   "execution_count": 162,
   "id": "c6b84c6d",
   "metadata": {},
   "outputs": [],
   "source": [
    "g_count = count_steps(n, g_map)"
   ]
  },
  {
   "cell_type": "code",
   "execution_count": 163,
   "id": "4cb7a822",
   "metadata": {},
   "outputs": [
    {
     "data": {
      "text/plain": [
       "4"
      ]
     },
     "execution_count": 163,
     "metadata": {},
     "output_type": "execute_result"
    }
   ],
   "source": [
    "g_count"
   ]
  },
  {
   "cell_type": "code",
   "execution_count": null,
   "id": "2d221ff4",
   "metadata": {},
   "outputs": [],
   "source": []
  }
 ],
 "metadata": {
  "kernelspec": {
   "display_name": "Python 3",
   "language": "python",
   "name": "python3"
  },
  "language_info": {
   "codemirror_mode": {
    "name": "ipython",
    "version": 3
   },
   "file_extension": ".py",
   "mimetype": "text/x-python",
   "name": "python",
   "nbconvert_exporter": "python",
   "pygments_lexer": "ipython3",
   "version": "3.8.8"
  }
 },
 "nbformat": 4,
 "nbformat_minor": 5
}
