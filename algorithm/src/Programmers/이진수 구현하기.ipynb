{
 "cells": [
  {
   "cell_type": "code",
   "execution_count": 55,
   "id": "1f1c173c",
   "metadata": {},
   "outputs": [],
   "source": [
    "n=[1, 3, 5, 7, 9]\n",
    "p=[]\n",
    "n_2 = [0]*len(n)"
   ]
  },
  {
   "cell_type": "code",
   "execution_count": 11,
   "id": "d3cfe365",
   "metadata": {},
   "outputs": [
    {
     "data": {
      "text/plain": [
       "3.8073549220576037"
      ]
     },
     "execution_count": 11,
     "metadata": {},
     "output_type": "execute_result"
    }
   ],
   "source": [
    "import math\n",
    "\n",
    "math.log(14, 2)"
   ]
  },
  {
   "cell_type": "code",
   "execution_count": 19,
   "id": "45c5c984",
   "metadata": {},
   "outputs": [
    {
     "data": {
      "text/plain": [
       "4"
      ]
     },
     "execution_count": 19,
     "metadata": {},
     "output_type": "execute_result"
    }
   ],
   "source": [
    "int(math.log(30, 2))"
   ]
  },
  {
   "cell_type": "code",
   "execution_count": 56,
   "id": "b384887e",
   "metadata": {},
   "outputs": [],
   "source": [
    "# 최고값을 기준으로 최근접한 2의 제곱 지수 범위 리스트 생성\n",
    "for i in range(int(math.log(max(n), 2))+1):\n",
    "    p.append(i)"
   ]
  },
  {
   "cell_type": "code",
   "execution_count": 57,
   "id": "0aba31e2",
   "metadata": {},
   "outputs": [
    {
     "data": {
      "text/plain": [
       "[0, 1, 2, 3]"
      ]
     },
     "execution_count": 57,
     "metadata": {},
     "output_type": "execute_result"
    }
   ],
   "source": [
    "p"
   ]
  },
  {
   "cell_type": "code",
   "execution_count": 61,
   "id": "0727f5cf",
   "metadata": {},
   "outputs": [],
   "source": [
    "temp = n\n",
    "num_one = 0"
   ]
  },
  {
   "cell_type": "code",
   "execution_count": 77,
   "id": "16f7f487",
   "metadata": {},
   "outputs": [
    {
     "name": "stdout",
     "output_type": "stream",
     "text": [
      "1 0 1\n",
      "3 1 1\n",
      "3 0 2\n",
      "5 1 1\n",
      "5 0 2\n",
      "7 3 1\n",
      "7 1 2\n",
      "7 0 3\n",
      "9 1 1\n",
      "9 0 2\n"
     ]
    }
   ],
   "source": [
    "for i in range(len(n)):\n",
    "    temp = n[i]\n",
    "    num_one = 0\n",
    "    # 2의 제곱 지수를 높은 값부터 빼나간다.\n",
    "    for j in range(len(p)-1, -1, -1):\n",
    "        if temp-2**j < 0:\n",
    "            continue\n",
    "\n",
    "        temp -= 2**j\n",
    "        num_one += 1\n",
    "        print(n[i], temp, num_one)\n",
    "    n_2[i] = num_one"
   ]
  },
  {
   "cell_type": "code",
   "execution_count": 78,
   "id": "caa0344d",
   "metadata": {},
   "outputs": [
    {
     "data": {
      "text/plain": [
       "[1, 2, 2, 3, 2]"
      ]
     },
     "execution_count": 78,
     "metadata": {},
     "output_type": "execute_result"
    }
   ],
   "source": [
    "n_2"
   ]
  },
  {
   "cell_type": "code",
   "execution_count": 50,
   "id": "ecc8cd43",
   "metadata": {},
   "outputs": [
    {
     "data": {
      "text/plain": [
       "4"
      ]
     },
     "execution_count": 50,
     "metadata": {},
     "output_type": "execute_result"
    }
   ],
   "source": [
    "num_one"
   ]
  },
  {
   "cell_type": "code",
   "execution_count": 89,
   "id": "300142fc",
   "metadata": {},
   "outputs": [],
   "source": [
    "sorted_n = []"
   ]
  },
  {
   "cell_type": "code",
   "execution_count": 68,
   "id": "37a06a06",
   "metadata": {},
   "outputs": [
    {
     "name": "stdout",
     "output_type": "stream",
     "text": [
      "3\n",
      "2\n",
      "1\n",
      "0\n"
     ]
    }
   ],
   "source": [
    "for i in range(max(n_2), -1, -1):\n",
    "    print(i)"
   ]
  },
  {
   "cell_type": "code",
   "execution_count": 69,
   "id": "8fb62eab",
   "metadata": {},
   "outputs": [
    {
     "name": "stdout",
     "output_type": "stream",
     "text": [
      "3\n"
     ]
    }
   ],
   "source": [
    "cap = max(n_2)\n",
    "print(cap)"
   ]
  },
  {
   "cell_type": "code",
   "execution_count": 90,
   "id": "76f7580e",
   "metadata": {},
   "outputs": [],
   "source": [
    "for i in range(max(n_2), -1, -1):\n",
    "    for j in range(len(n)-1, -1, -1):\n",
    "        if i == n_2[j]:\n",
    "            sorted_n.append(n[j])\n",
    "    "
   ]
  },
  {
   "cell_type": "code",
   "execution_count": 91,
   "id": "47366c17",
   "metadata": {},
   "outputs": [
    {
     "data": {
      "text/plain": [
       "[7, 9, 5, 3, 1]"
      ]
     },
     "execution_count": 91,
     "metadata": {},
     "output_type": "execute_result"
    }
   ],
   "source": [
    "sorted_n"
   ]
  },
  {
   "cell_type": "code",
   "execution_count": 93,
   "id": "e138a3ad",
   "metadata": {},
   "outputs": [
    {
     "data": {
      "text/plain": [
       "3"
      ]
     },
     "execution_count": 93,
     "metadata": {},
     "output_type": "execute_result"
    }
   ],
   "source": [
    "sorted_n[3]"
   ]
  },
  {
   "cell_type": "code",
   "execution_count": 94,
   "id": "d3dce1fe",
   "metadata": {},
   "outputs": [
    {
     "data": {
      "text/plain": [
       "[1, 3, 5, 7, 9]"
      ]
     },
     "execution_count": 94,
     "metadata": {},
     "output_type": "execute_result"
    }
   ],
   "source": [
    "n"
   ]
  },
  {
   "cell_type": "code",
   "execution_count": 96,
   "id": "67d0ea91",
   "metadata": {},
   "outputs": [
    {
     "name": "stdout",
     "output_type": "stream",
     "text": [
      "0\n",
      "1\n",
      "2\n",
      "2\n",
      "3\n"
     ]
    }
   ],
   "source": [
    "for i in n:\n",
    "    print(int(math.log(i, 2)))"
   ]
  },
  {
   "cell_type": "code",
   "execution_count": 101,
   "id": "b649c37c",
   "metadata": {},
   "outputs": [
    {
     "data": {
      "text/plain": [
       "'0b100000'"
      ]
     },
     "execution_count": 101,
     "metadata": {},
     "output_type": "execute_result"
    }
   ],
   "source": [
    "bin(32)"
   ]
  },
  {
   "cell_type": "code",
   "execution_count": 100,
   "id": "b8e5398e",
   "metadata": {},
   "outputs": [
    {
     "data": {
      "text/plain": [
       "4"
      ]
     },
     "execution_count": 100,
     "metadata": {},
     "output_type": "execute_result"
    }
   ],
   "source": [
    "bin(30).count('1')"
   ]
  },
  {
   "cell_type": "code",
   "execution_count": null,
   "id": "80c1c741",
   "metadata": {},
   "outputs": [],
   "source": [
    "#bin 함수 활용"
   ]
  },
  {
   "cell_type": "code",
   "execution_count": null,
   "id": "519c3720",
   "metadata": {},
   "outputs": [],
   "source": [
    "for i in range(n):\n",
    "    ns.append(i)"
   ]
  },
  {
   "cell_type": "code",
   "execution_count": 151,
   "id": "1261c42f",
   "metadata": {},
   "outputs": [],
   "source": [
    "n=10\n",
    "k=6\n",
    "ns =[]\n",
    "n_2 = []"
   ]
  },
  {
   "cell_type": "code",
   "execution_count": 152,
   "id": "838afc44",
   "metadata": {},
   "outputs": [],
   "source": [
    "for i in range(1, 2*n+1, 2):\n",
    "    ns.append(i)"
   ]
  },
  {
   "cell_type": "code",
   "execution_count": 153,
   "id": "8cca710b",
   "metadata": {},
   "outputs": [
    {
     "data": {
      "text/plain": [
       "10"
      ]
     },
     "execution_count": 153,
     "metadata": {},
     "output_type": "execute_result"
    }
   ],
   "source": [
    "len(ns)"
   ]
  },
  {
   "cell_type": "code",
   "execution_count": 154,
   "id": "c08a7103",
   "metadata": {},
   "outputs": [],
   "source": [
    "for i in ns:\n",
    "    n_2.append(bin(i).count('1'))"
   ]
  },
  {
   "cell_type": "code",
   "execution_count": 155,
   "id": "ac419d23",
   "metadata": {},
   "outputs": [
    {
     "name": "stdout",
     "output_type": "stream",
     "text": [
      "4\n"
     ]
    }
   ],
   "source": [
    "print(max(n_2))"
   ]
  },
  {
   "cell_type": "code",
   "execution_count": 156,
   "id": "f7802a95",
   "metadata": {},
   "outputs": [
    {
     "name": "stdout",
     "output_type": "stream",
     "text": [
      "4\n"
     ]
    }
   ],
   "source": [
    "print(int(math.log(max(ns), 2)))"
   ]
  },
  {
   "cell_type": "code",
   "execution_count": 160,
   "id": "9ea43aee",
   "metadata": {},
   "outputs": [
    {
     "data": {
      "text/plain": [
       "[1, 3, 5, 7, 9, 11, 13, 15, 17, 19]"
      ]
     },
     "execution_count": 160,
     "metadata": {},
     "output_type": "execute_result"
    }
   ],
   "source": [
    "ns"
   ]
  },
  {
   "cell_type": "code",
   "execution_count": 161,
   "id": "1cc884eb",
   "metadata": {},
   "outputs": [
    {
     "data": {
      "text/plain": [
       "[1, 2, 2, 3, 2, 3, 3, 4, 2, 3]"
      ]
     },
     "execution_count": 161,
     "metadata": {},
     "output_type": "execute_result"
    }
   ],
   "source": [
    "n_2"
   ]
  },
  {
   "cell_type": "code",
   "execution_count": 162,
   "id": "f26ad99e",
   "metadata": {},
   "outputs": [],
   "source": [
    "stack = []"
   ]
  },
  {
   "cell_type": "code",
   "execution_count": 163,
   "id": "218f0322",
   "metadata": {},
   "outputs": [],
   "source": [
    "# n_2에서 최대값부터 하나씩 내려감\n",
    "for i in range(max(n_2), -1, -1):\n",
    "    # n_2에서 뒤쪽부터 하나씩 탐색\n",
    "    for j in range(n-1, -1, -1):\n",
    "        if i == n_2[j]:\n",
    "            stack.append(ns[j])"
   ]
  },
  {
   "cell_type": "code",
   "execution_count": 164,
   "id": "b7cbd419",
   "metadata": {},
   "outputs": [
    {
     "data": {
      "text/plain": [
       "[15, 19, 13, 11, 7, 17, 9, 5, 3, 1]"
      ]
     },
     "execution_count": 164,
     "metadata": {},
     "output_type": "execute_result"
    }
   ],
   "source": [
    "stack"
   ]
  },
  {
   "cell_type": "code",
   "execution_count": 165,
   "id": "64443d7a",
   "metadata": {},
   "outputs": [
    {
     "data": {
      "text/plain": [
       "[1, 3, 5, 7, 9, 11, 13, 15, 17, 19]"
      ]
     },
     "execution_count": 165,
     "metadata": {},
     "output_type": "execute_result"
    }
   ],
   "source": [
    "ns"
   ]
  },
  {
   "cell_type": "code",
   "execution_count": 166,
   "id": "31f5cbc4",
   "metadata": {},
   "outputs": [
    {
     "data": {
      "text/plain": [
       "[1, 2, 2, 3, 2, 3, 3, 4, 2, 3]"
      ]
     },
     "execution_count": 166,
     "metadata": {},
     "output_type": "execute_result"
    }
   ],
   "source": [
    "n_2"
   ]
  },
  {
   "cell_type": "code",
   "execution_count": 167,
   "id": "2f6fe932",
   "metadata": {},
   "outputs": [
    {
     "data": {
      "text/plain": [
       "17"
      ]
     },
     "execution_count": 167,
     "metadata": {},
     "output_type": "execute_result"
    }
   ],
   "source": [
    "stack[k-1]"
   ]
  },
  {
   "cell_type": "code",
   "execution_count": null,
   "id": "a385df7c",
   "metadata": {},
   "outputs": [],
   "source": []
  },
  {
   "cell_type": "code",
   "execution_count": 195,
   "id": "c5863bf0",
   "metadata": {},
   "outputs": [],
   "source": [
    "ns = sorted(ns, reverse=True)"
   ]
  },
  {
   "cell_type": "code",
   "execution_count": 196,
   "id": "2ada485f",
   "metadata": {},
   "outputs": [],
   "source": [
    "ns_bin = []"
   ]
  },
  {
   "cell_type": "code",
   "execution_count": 197,
   "id": "aa1ce9ce",
   "metadata": {},
   "outputs": [],
   "source": [
    "for i in ns:\n",
    "    ns_bin.append(format(i, 'b'))"
   ]
  },
  {
   "cell_type": "code",
   "execution_count": 198,
   "id": "d1716218",
   "metadata": {},
   "outputs": [
    {
     "data": {
      "text/plain": [
       "['10011', '10001', '1111', '1101', '1011', '1001', '111', '101', '11', '1']"
      ]
     },
     "execution_count": 198,
     "metadata": {},
     "output_type": "execute_result"
    }
   ],
   "source": [
    "ns_bin"
   ]
  },
  {
   "cell_type": "code",
   "execution_count": 199,
   "id": "0a5ba375",
   "metadata": {},
   "outputs": [],
   "source": [
    "ns_count = []"
   ]
  },
  {
   "cell_type": "code",
   "execution_count": 200,
   "id": "6203e6fc",
   "metadata": {},
   "outputs": [],
   "source": [
    "for i in ns_bin:\n",
    "    ns_count.append(i.count('1'))"
   ]
  },
  {
   "cell_type": "code",
   "execution_count": 201,
   "id": "5f952cc1",
   "metadata": {},
   "outputs": [
    {
     "data": {
      "text/plain": [
       "[3, 2, 4, 3, 3, 2, 3, 2, 2, 1]"
      ]
     },
     "execution_count": 201,
     "metadata": {},
     "output_type": "execute_result"
    }
   ],
   "source": [
    "ns_count"
   ]
  },
  {
   "cell_type": "code",
   "execution_count": 202,
   "id": "720febe2",
   "metadata": {},
   "outputs": [
    {
     "data": {
      "text/plain": [
       "[19, 17, 15, 13, 11, 9, 7, 5, 3, 1]"
      ]
     },
     "execution_count": 202,
     "metadata": {},
     "output_type": "execute_result"
    }
   ],
   "source": [
    "ns"
   ]
  },
  {
   "cell_type": "code",
   "execution_count": 203,
   "id": "b02a56d3",
   "metadata": {},
   "outputs": [],
   "source": [
    "stack = []"
   ]
  },
  {
   "cell_type": "code",
   "execution_count": 206,
   "id": "313f1a6d",
   "metadata": {},
   "outputs": [],
   "source": [
    "for i in range(max(ns_count), 0, -1):\n",
    "    for j in range(n):\n",
    "        if ns_count[j] == i:\n",
    "            stack.append(ns[j])"
   ]
  },
  {
   "cell_type": "code",
   "execution_count": 207,
   "id": "e4b38ecf",
   "metadata": {},
   "outputs": [
    {
     "data": {
      "text/plain": [
       "[15, 19, 13, 11, 7, 17, 9, 5, 3, 1]"
      ]
     },
     "execution_count": 207,
     "metadata": {},
     "output_type": "execute_result"
    }
   ],
   "source": [
    "stack"
   ]
  },
  {
   "cell_type": "code",
   "execution_count": 209,
   "id": "e9be3053",
   "metadata": {},
   "outputs": [
    {
     "data": {
      "text/plain": [
       "[15, 19, 13, 11, 7, 17, 9, 5, 3, 1]"
      ]
     },
     "execution_count": 209,
     "metadata": {},
     "output_type": "execute_result"
    }
   ],
   "source": [
    "esorted(ns, key=lambda x: (bin(x).count('1'), x), reverse=True)"
   ]
  },
  {
   "cell_type": "code",
   "execution_count": null,
   "id": "cb57f403",
   "metadata": {},
   "outputs": [],
   "source": []
  }
 ],
 "metadata": {
  "kernelspec": {
   "display_name": "Python 3",
   "language": "python",
   "name": "python3"
  },
  "language_info": {
   "codemirror_mode": {
    "name": "ipython",
    "version": 3
   },
   "file_extension": ".py",
   "mimetype": "text/x-python",
   "name": "python",
   "nbconvert_exporter": "python",
   "pygments_lexer": "ipython3",
   "version": "3.8.8"
  }
 },
 "nbformat": 4,
 "nbformat_minor": 5
}
