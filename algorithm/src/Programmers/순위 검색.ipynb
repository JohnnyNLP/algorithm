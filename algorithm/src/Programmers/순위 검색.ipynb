{
 "cells": [
  {
   "cell_type": "markdown",
   "id": "fd363178",
   "metadata": {},
   "source": [
    "https://school.programmers.co.kr/learn/courses/30/lessons/72412"
   ]
  },
  {
   "cell_type": "code",
   "execution_count": 127,
   "id": "e34c36bc",
   "metadata": {},
   "outputs": [],
   "source": [
    "info = [\"java backend junior pizza 150\",\"python frontend senior chicken 210\",\n",
    "        \"python frontend senior chicken 150\",\"cpp backend senior pizza 260\",\n",
    "        \"java backend junior chicken 80\",\"python backend senior chicken 50\"]\n",
    "query = [\"java and backend and junior and pizza 100\",\n",
    "         \"python and frontend and senior and chicken 200\",\n",
    "         \"cpp and - and senior and pizza 250\",\n",
    "         \"- and backend and senior and - 150\",\n",
    "         \"- and - and - and chicken 100\",\n",
    "         \"- and - and - and - 150\"]"
   ]
  },
  {
   "cell_type": "code",
   "execution_count": 47,
   "id": "7257a1f4",
   "metadata": {},
   "outputs": [],
   "source": [
    "applicants = {}"
   ]
  },
  {
   "cell_type": "code",
   "execution_count": 57,
   "id": "7b65d198",
   "metadata": {},
   "outputs": [],
   "source": [
    "for i in range(len(info)):\n",
    "    applicants[i] = {'dev' : info[i].split()[0],\n",
    "               'end' : info[i].split()[1],\n",
    "               'exp' : info[i].split()[2],\n",
    "               'soul' : info[i].split()[3],\n",
    "               'score' : int(info[i].split()[4])\n",
    "                    }"
   ]
  },
  {
   "cell_type": "code",
   "execution_count": 58,
   "id": "fc89c4f8",
   "metadata": {},
   "outputs": [
    {
     "data": {
      "text/plain": [
       "{0: {'dev': 'java',\n",
       "  'end': 'backend',\n",
       "  'exp': 'junior',\n",
       "  'soul': 'pizza',\n",
       "  'score': 150},\n",
       " 1: {'dev': 'python',\n",
       "  'end': 'frontend',\n",
       "  'exp': 'senior',\n",
       "  'soul': 'chicken',\n",
       "  'score': 210},\n",
       " 2: {'dev': 'python',\n",
       "  'end': 'frontend',\n",
       "  'exp': 'senior',\n",
       "  'soul': 'chicken',\n",
       "  'score': 150},\n",
       " 3: {'dev': 'cpp',\n",
       "  'end': 'backend',\n",
       "  'exp': 'senior',\n",
       "  'soul': 'pizza',\n",
       "  'score': 260},\n",
       " 4: {'dev': 'java',\n",
       "  'end': 'backend',\n",
       "  'exp': 'junior',\n",
       "  'soul': 'chicken',\n",
       "  'score': 80},\n",
       " 5: {'dev': 'python',\n",
       "  'end': 'backend',\n",
       "  'exp': 'senior',\n",
       "  'soul': 'chicken',\n",
       "  'score': 50}}"
      ]
     },
     "execution_count": 58,
     "metadata": {},
     "output_type": "execute_result"
    }
   ],
   "source": [
    "applicants"
   ]
  },
  {
   "cell_type": "code",
   "execution_count": 59,
   "id": "13dce510",
   "metadata": {},
   "outputs": [],
   "source": [
    "queries = {}"
   ]
  },
  {
   "cell_type": "code",
   "execution_count": 60,
   "id": "4e1456fa",
   "metadata": {},
   "outputs": [],
   "source": [
    "for i in range(len(query)):\n",
    "    queries[i] = {'dev' : query[i].split(' and ')[0],\n",
    "               'end' : query[i].split(' and ')[1],\n",
    "               'exp' : query[i].split(' and ')[2],\n",
    "               'soul' : query[i].split(' and ')[3].split()[0],\n",
    "               'score' : int(query[i].split(' and ')[3].split()[1])\n",
    "                    }"
   ]
  },
  {
   "cell_type": "code",
   "execution_count": 61,
   "id": "a68b81f2",
   "metadata": {},
   "outputs": [
    {
     "data": {
      "text/plain": [
       "{0: {'dev': 'java',\n",
       "  'end': 'backend',\n",
       "  'exp': 'junior',\n",
       "  'soul': 'pizza',\n",
       "  'score': 100},\n",
       " 1: {'dev': 'python',\n",
       "  'end': 'frontend',\n",
       "  'exp': 'senior',\n",
       "  'soul': 'chicken',\n",
       "  'score': 200},\n",
       " 2: {'dev': 'cpp', 'end': '-', 'exp': 'senior', 'soul': 'pizza', 'score': 250},\n",
       " 3: {'dev': '-', 'end': 'backend', 'exp': 'senior', 'soul': '-', 'score': 150},\n",
       " 4: {'dev': '-', 'end': '-', 'exp': '-', 'soul': 'chicken', 'score': 100},\n",
       " 5: {'dev': '-', 'end': '-', 'exp': '-', 'soul': '-', 'score': 150}}"
      ]
     },
     "execution_count": 61,
     "metadata": {},
     "output_type": "execute_result"
    }
   ],
   "source": [
    "queries"
   ]
  },
  {
   "cell_type": "code",
   "execution_count": 62,
   "id": "9b9822ee",
   "metadata": {},
   "outputs": [],
   "source": [
    "answer= []\n",
    "for i in queries:\n",
    "    count = 0\n",
    "    # i번째 query에 대하여\n",
    "    dev = queries[i].get('dev')\n",
    "    end = queries[i].get('end')\n",
    "    exp = queries[i].get('exp')\n",
    "    soul = queries[i].get('soul')\n",
    "    score = queries[i].get('score')\n",
    "    \n",
    "    # j번째 applicant에 대하여\n",
    "    for j in applicants:\n",
    "        if applicants[j].get('dev') == dev or dev == '-':\n",
    "            if applicants[j].get('end') == end or end == '-':\n",
    "                if applicants[j].get('exp') == exp or exp == '-':\n",
    "                    if applicants[j].get('soul') == soul or soul == '-':\n",
    "                        if applicants[j].get('score') >= score:\n",
    "                            count += 1\n",
    "    answer.append(count)                       "
   ]
  },
  {
   "cell_type": "code",
   "execution_count": 74,
   "id": "0f6e298d",
   "metadata": {},
   "outputs": [
    {
     "data": {
      "text/plain": [
       "['java', 'backend', 'junior', 'pizza', 100]"
      ]
     },
     "execution_count": 74,
     "metadata": {},
     "output_type": "execute_result"
    }
   ],
   "source": [
    "list(queries[0].values())"
   ]
  },
  {
   "cell_type": "code",
   "execution_count": 91,
   "id": "efd13335",
   "metadata": {},
   "outputs": [],
   "source": [
    "applicant_0 = list(applicants[0].values())"
   ]
  },
  {
   "cell_type": "code",
   "execution_count": 95,
   "id": "ed6695e3",
   "metadata": {},
   "outputs": [],
   "source": [
    "def test(query_i, applicant_j, query_true):\n",
    "    result = False\n",
    "    query_score = 0\n",
    "    \n",
    "    for q in query_true:\n",
    "        if query_i[q] == applicant_j[q]:\n",
    "            query_score += 1\n",
    "    if query_score == len(query_true) and applicant_j[4] >= query_i[4]:\n",
    "        result = True\n",
    "    return result"
   ]
  },
  {
   "cell_type": "code",
   "execution_count": 98,
   "id": "fbbdcfbc",
   "metadata": {},
   "outputs": [],
   "source": [
    "answer=[]\n",
    "for i in range(len(queries)):\n",
    "    query_i = list(queries[i].values())\n",
    "    query_true = []\n",
    "    count = 0\n",
    "\n",
    "    for l in range(len(query_i)-1):\n",
    "        if query_i[l] != '-':\n",
    "            query_true.append(l)\n",
    "    \n",
    "    for j in range(len(applicants)):\n",
    "        applicant_j = list(applicants[j].values())\n",
    "        \n",
    "        result = test(query_i, applicant_j, query_true)\n",
    "        if result:\n",
    "            count += 1\n",
    "    answer.append(count)\n"
   ]
  },
  {
   "cell_type": "code",
   "execution_count": 88,
   "id": "1d8abded",
   "metadata": {},
   "outputs": [
    {
     "data": {
      "text/plain": [
       "[]"
      ]
     },
     "execution_count": 88,
     "metadata": {},
     "output_type": "execute_result"
    }
   ],
   "source": [
    "query_true"
   ]
  },
  {
   "cell_type": "code",
   "execution_count": 144,
   "id": "d25f89d7",
   "metadata": {},
   "outputs": [
    {
     "data": {
      "text/plain": [
       "[['java', 'backend', 'junior', 'pizza', '150'],\n",
       " ['python', 'frontend', 'senior', 'chicken', '210'],\n",
       " ['python', 'frontend', 'senior', 'chicken', '150'],\n",
       " ['cpp', 'backend', 'senior', 'pizza', '260'],\n",
       " ['java', 'backend', 'junior', 'chicken', '80'],\n",
       " ['python', 'backend', 'senior', 'chicken', '50']]"
      ]
     },
     "execution_count": 144,
     "metadata": {},
     "output_type": "execute_result"
    }
   ],
   "source": [
    "applicants"
   ]
  },
  {
   "cell_type": "code",
   "execution_count": 142,
   "id": "1534afb3",
   "metadata": {},
   "outputs": [],
   "source": [
    "applicants = []\n",
    "queries = []\n",
    "\n",
    "for i in range(len(info)):\n",
    "    applicants.append(info[i].split())\n",
    "    \n",
    "for j in range(len(query)):\n",
    "    queries.append(query[j].split(' and '))\n",
    "    temp = queries[j][3].split()\n",
    "    queries[j][3] = temp[0]\n",
    "    queries[j].append((temp[1]))"
   ]
  },
  {
   "cell_type": "code",
   "execution_count": 143,
   "id": "8ab4650d",
   "metadata": {},
   "outputs": [
    {
     "data": {
      "text/plain": [
       "[['java', 'backend', 'junior', 'pizza', '100'],\n",
       " ['python', 'frontend', 'senior', 'chicken', '200'],\n",
       " ['cpp', '-', 'senior', 'pizza', '250'],\n",
       " ['-', 'backend', 'senior', '-', '150'],\n",
       " ['-', '-', '-', 'chicken', '100'],\n",
       " ['-', '-', '-', '-', '150']]"
      ]
     },
     "execution_count": 143,
     "metadata": {},
     "output_type": "execute_result"
    }
   ],
   "source": [
    "queries"
   ]
  },
  {
   "cell_type": "code",
   "execution_count": 146,
   "id": "3f5c930e",
   "metadata": {},
   "outputs": [],
   "source": [
    "def dev (applicant, query):\n",
    "    result = False\n",
    "    if applicant[0] == query[0] or query[0] == '-':\n",
    "        result = True\n",
    "        return result\n",
    "\n",
    "def end (applicant, query):\n",
    "    result = False\n",
    "    if applicant[1] == query[1] or query[1] == '-':\n",
    "        result = True\n",
    "        return result\n",
    "    \n",
    "def exp (applicant, query):\n",
    "    result = False\n",
    "    if applicant[2] == query[2] or query[2] == '-':\n",
    "        result = True\n",
    "        return result\n",
    "    \n",
    "def soul (applicant, query):\n",
    "    result = False\n",
    "    if applicant[3] == query[3] or query[3] == '-':\n",
    "        result = True\n",
    "        return result\n",
    "    \n",
    "def score (applicant, query):\n",
    "    result = False\n",
    "    if int(applicant[4]) >= int(query[4]):\n",
    "        result = True\n",
    "        return result"
   ]
  },
  {
   "cell_type": "code",
   "execution_count": 147,
   "id": "61677d2a",
   "metadata": {},
   "outputs": [],
   "source": [
    "answer = []\n",
    "for j in queries:\n",
    "    count=0\n",
    "    for i in applicants:\n",
    "        if dev(i, j):\n",
    "            if end(i, j):\n",
    "                if exp(i, j):\n",
    "                    if soul(i, j):\n",
    "                        if score(i, j):\n",
    "                            count+=1\n",
    "    answer.append(count)"
   ]
  },
  {
   "cell_type": "code",
   "execution_count": 148,
   "id": "f5a0eacf",
   "metadata": {},
   "outputs": [
    {
     "data": {
      "text/plain": [
       "[1, 1, 1, 1, 2, 4]"
      ]
     },
     "execution_count": 148,
     "metadata": {},
     "output_type": "execute_result"
    }
   ],
   "source": [
    "answer"
   ]
  },
  {
   "cell_type": "code",
   "execution_count": null,
   "id": "91635843",
   "metadata": {},
   "outputs": [],
   "source": []
  }
 ],
 "metadata": {
  "kernelspec": {
   "display_name": "Python 3",
   "language": "python",
   "name": "python3"
  },
  "language_info": {
   "codemirror_mode": {
    "name": "ipython",
    "version": 3
   },
   "file_extension": ".py",
   "mimetype": "text/x-python",
   "name": "python",
   "nbconvert_exporter": "python",
   "pygments_lexer": "ipython3",
   "version": "3.8.8"
  }
 },
 "nbformat": 4,
 "nbformat_minor": 5
}
