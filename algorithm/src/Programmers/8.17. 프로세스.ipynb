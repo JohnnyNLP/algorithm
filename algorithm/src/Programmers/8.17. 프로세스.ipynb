{
 "cells": [
  {
   "cell_type": "markdown",
   "id": "48471ba2",
   "metadata": {},
   "source": [
    "https://school.programmers.co.kr/learn/courses/30/lessons/42587"
   ]
  },
  {
   "cell_type": "code",
   "execution_count": 156,
   "id": "ddc326eb",
   "metadata": {},
   "outputs": [],
   "source": [
    "from collections import deque\n",
    "\n",
    "def solution(priorities, location):\n",
    "    q = deque(priorities)\n",
    "    target_value=q[location]\n",
    "    target_count=0\n",
    "    \n",
    "    while q:\n",
    "        \n",
    "        # 길이가 음수가 되면 다시 오른쪽 끝으로 보낸다.\n",
    "        if location < 0 :\n",
    "            location += len(q)\n",
    "            \n",
    "        # 가장 왼쪽의 값이 최대가 나올 때까지 회전\n",
    "        if q[0] != max(q):\n",
    "            q.rotate(-1)\n",
    "            location -= 1\n",
    "            #print(q, location, target_count)\n",
    "\n",
    "        # 찾고자 하는 프로세스가 실행될 조건은 큐의 최대값이 프로세스의 우선순위이고, 현재 위치가 0인 경우\n",
    "        elif max(q)==target_value and location==0 :\n",
    "            target_count += 1\n",
    "            #print(q, location, target_count)\n",
    "            break\n",
    "\n",
    "        # 가장 왼쪽 값이 최대라면 뽑아내고 위치도 한칸 밀어준다.\n",
    "        else:\n",
    "            q.popleft()\n",
    "            target_count += 1\n",
    "            location -= 1\n",
    "            #print(q, location, target_count)\n",
    "\n",
    "    return target_count"
   ]
  },
  {
   "cell_type": "code",
   "execution_count": 157,
   "id": "de83c889",
   "metadata": {},
   "outputs": [],
   "source": [
    "priorities = [2, 1, 3, 2, 3]\n",
    "location = 3"
   ]
  },
  {
   "cell_type": "code",
   "execution_count": 158,
   "id": "fd8ac5f3",
   "metadata": {},
   "outputs": [
    {
     "data": {
      "text/plain": [
       "4"
      ]
     },
     "execution_count": 158,
     "metadata": {},
     "output_type": "execute_result"
    }
   ],
   "source": [
    "solution(priorities,location)"
   ]
  },
  {
   "cell_type": "code",
   "execution_count": 150,
   "id": "dbf74ed4",
   "metadata": {},
   "outputs": [],
   "source": [
    "q = deque(priorities)\n",
    "target_value=q[location]\n",
    "target_count=0"
   ]
  },
  {
   "cell_type": "code",
   "execution_count": 151,
   "id": "33078dc4",
   "metadata": {},
   "outputs": [
    {
     "name": "stdout",
     "output_type": "stream",
     "text": [
      "2\n"
     ]
    }
   ],
   "source": [
    "print(target_value)"
   ]
  },
  {
   "cell_type": "code",
   "execution_count": 152,
   "id": "d4d54f00",
   "metadata": {},
   "outputs": [
    {
     "name": "stdout",
     "output_type": "stream",
     "text": [
      "deque([1, 3, 2, 3, 2]) 2 0\n",
      "deque([3, 2, 3, 2, 1]) 1 0\n",
      "deque([2, 3, 2, 1]) 0 1\n",
      "deque([3, 2, 1, 2]) -1 1\n",
      "deque([2, 1, 2]) 2 2\n",
      "deque([1, 2]) 1 3\n",
      "deque([2, 1]) 0 3\n",
      "deque([2, 1]) 0 4\n",
      "4\n"
     ]
    }
   ],
   "source": [
    "while q:\n",
    "    if location < 0 :\n",
    "        location += len(q)\n",
    "    # 가장 왼쪽의 값이 최대가 나올 때까지 회전\n",
    "    if q[0] != max(q):\n",
    "        q.rotate(-1)\n",
    "        location -= 1\n",
    "        print(q, location, target_count)\n",
    "    \n",
    "    # 만약 실행되는 프로세스가 처음에 의도했던 프로세스와 일치하다면 위치가 0이고 값이 같을 것.\n",
    "    elif q[0]==target_value and location==0 :\n",
    "        target_count += 1\n",
    "        print(q, location, target_count)\n",
    "        break\n",
    "    \n",
    "    # 가장 왼쪽 값이 최대라면 뽑아내고 위치도 한칸 밀어준다.\n",
    "    else:\n",
    "        q.popleft()\n",
    "        target_count += 1\n",
    "        location -= 1\n",
    "        print(q, location, target_count)\n",
    "    \n",
    "# 위치가 0보다 작아지면 다시 맨 끝자리로 보낸다.\n",
    "\n",
    "print(target_count)\n",
    "    "
   ]
  },
  {
   "cell_type": "code",
   "execution_count": 135,
   "id": "cb23652b",
   "metadata": {},
   "outputs": [
    {
     "data": {
      "text/plain": [
       "deque([])"
      ]
     },
     "execution_count": 135,
     "metadata": {},
     "output_type": "execute_result"
    }
   ],
   "source": [
    "q"
   ]
  },
  {
   "cell_type": "code",
   "execution_count": 107,
   "id": "69198418",
   "metadata": {},
   "outputs": [],
   "source": [
    "q.rotate(-1)"
   ]
  },
  {
   "cell_type": "code",
   "execution_count": 108,
   "id": "b98cea26",
   "metadata": {},
   "outputs": [
    {
     "data": {
      "text/plain": [
       "deque([3, 2, 3, 2, 1])"
      ]
     },
     "execution_count": 108,
     "metadata": {},
     "output_type": "execute_result"
    }
   ],
   "source": [
    "q"
   ]
  },
  {
   "cell_type": "code",
   "execution_count": null,
   "id": "9e0964c1",
   "metadata": {},
   "outputs": [],
   "source": []
  }
 ],
 "metadata": {
  "kernelspec": {
   "display_name": "Python 3",
   "language": "python",
   "name": "python3"
  },
  "language_info": {
   "codemirror_mode": {
    "name": "ipython",
    "version": 3
   },
   "file_extension": ".py",
   "mimetype": "text/x-python",
   "name": "python",
   "nbconvert_exporter": "python",
   "pygments_lexer": "ipython3",
   "version": "3.8.8"
  }
 },
 "nbformat": 4,
 "nbformat_minor": 5
}
