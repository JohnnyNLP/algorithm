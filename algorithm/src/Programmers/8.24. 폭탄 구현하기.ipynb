{
 "cells": [
  {
   "cell_type": "markdown",
   "id": "8ed0c4c8",
   "metadata": {},
   "source": [
    "https://level.goorm.io/exam/195691/%ED%8F%AD%ED%83%84-%EA%B5%AC%ED%98%84%ED%95%98%EA%B8%B0-2/quiz/1"
   ]
  },
  {
   "cell_type": "code",
   "execution_count": 30,
   "id": "c3fa28d4",
   "metadata": {},
   "outputs": [
    {
     "name": "stdout",
     "output_type": "stream",
     "text": [
      "4 4\n",
      "0 @ 0 0\n",
      "@ 0 @ 0\n",
      "0 @ 0 0\n",
      "0 0 0 0\n",
      "2 2\n",
      "2 2\n",
      "2 2\n",
      "2 2 \n",
      "8\n"
     ]
    }
   ],
   "source": [
    "n, k = map(int, input().split())\n",
    "m = []\n",
    "for r in range(n):\n",
    "\tm.append(input())\n",
    "coord = []\n",
    "for i in range(k):\n",
    "\ty, x = map(int ,input().split())\n",
    "\tcoord.append((y, x))\n",
    "\n",
    "# 매트릭스 내 값을 모두 숫자로 변환한다.\n",
    "for i in range(n):\n",
    "\tm[i] = m[i].replace('@', '2')\n",
    "\tm[i] = m[i].replace('#', '-100')\n",
    "\tm[i] = list(map(int, m[i].split()))\n",
    "#print(m)\n",
    "\t\t\t\n",
    "# 매트릭스 m을 -100으로 한 겹 둘러싼다.\n",
    "padded_m = [[-100]*(n+2)]\n",
    "for i in m:\n",
    "\tpadded_m += [[-100]+i+[-100]]\n",
    "padded_m += [[-100]*(n+2)]\n",
    "#print(padded_m)\n",
    "\n",
    "# 폭탄이 맞은 지점의 카운트를 세어준다.\n",
    "bomb_count=[]\n",
    "for i in range(n+2):\n",
    "    bomb_count += [[0]*(n+2)]\n",
    "\n",
    "#print(bomb_count)\n",
    "for yxs in coord:\n",
    "\ty, x = yxs[0], yxs[1]\n",
    "\tbomb_count[y-1][x] += 1\n",
    "\tbomb_count[y][x] += 1\n",
    "\tbomb_count[y+1][x] += 1\n",
    "\tbomb_count[y][x-1] += 1\n",
    "\tbomb_count[y][x+1] += 1\n",
    "\n",
    "# m과 bomb_count를 곱하여 최대값 찾기\n",
    "temp = 0\n",
    "for y in range(1, n+1):\n",
    "\tfor x in range(1, n+1):\n",
    "\t\tif padded_m[y][x] >= 0:\n",
    "\t\t\ttemp = max(temp, padded_m[y][x]*bomb_count[y][x])\n",
    "\t\t\n",
    "print(temp)\n"
   ]
  },
  {
   "cell_type": "code",
   "execution_count": 25,
   "id": "bf3dd8f0",
   "metadata": {},
   "outputs": [
    {
     "data": {
      "text/plain": [
       "[[0, 0, 0, 0, 0, 0],\n",
       " [0, 0, 0, 0, 0, 0],\n",
       " [0, 0, 0, 0, 0, 0],\n",
       " [0, 0, 0, 0, 0, 0],\n",
       " [0, 0, 0, 0, 0, 0],\n",
       " [0, 0, 0, 0, 0, 0]]"
      ]
     },
     "execution_count": 25,
     "metadata": {},
     "output_type": "execute_result"
    }
   ],
   "source": [
    "bomb_count = []\n",
    "for i in range(n+2):\n",
    "    bomb_count += [[0]*(n+2)]\n",
    "bomb_count"
   ]
  },
  {
   "cell_type": "code",
   "execution_count": 22,
   "id": "2935d135",
   "metadata": {},
   "outputs": [
    {
     "data": {
      "text/plain": [
       "0"
      ]
     },
     "execution_count": 22,
     "metadata": {},
     "output_type": "execute_result"
    }
   ],
   "source": [
    "bomb_count[2][2]"
   ]
  },
  {
   "cell_type": "code",
   "execution_count": 23,
   "id": "954dcf30",
   "metadata": {},
   "outputs": [
    {
     "data": {
      "text/plain": [
       "[[0, 0, 0, 0, 0, 0],\n",
       " [0, 0, 0, 0, 0, 0],\n",
       " [0, 0, 0, 0, 0, 0],\n",
       " [0, 0, 0, 0, 0, 0],\n",
       " [0, 0, 0, 0, 0, 0],\n",
       " [0, 0, 0, 0, 0, 0]]"
      ]
     },
     "execution_count": 23,
     "metadata": {},
     "output_type": "execute_result"
    }
   ],
   "source": [
    "bomb_count"
   ]
  },
  {
   "cell_type": "code",
   "execution_count": 27,
   "id": "4d7c721c",
   "metadata": {},
   "outputs": [
    {
     "name": "stdout",
     "output_type": "stream",
     "text": [
      "4\n"
     ]
    }
   ],
   "source": [
    "\n",
    "bomb_count=[]\n",
    "# 폭탄이 맞은 지점의 카운트를 세어준다.\n",
    "for i in range(n+2):\n",
    "    bomb_count += [[0]*(n+2)]\n",
    "print(len(coord))\n",
    "for yxs in coord:\n",
    "    y, x = yxs[0], yxs[1]\n",
    "    bomb_count[y-1][x] += 1\n",
    "    bomb_count[y][x] += 1\n",
    "    bomb_count[y+1][x] += 1\n",
    "    bomb_count[y][x-1] += 1\n",
    "    bomb_count[y][x+1] += 1"
   ]
  },
  {
   "cell_type": "code",
   "execution_count": 31,
   "id": "be40f1f4",
   "metadata": {},
   "outputs": [
    {
     "data": {
      "text/plain": [
       "[[0, 0, 0, 0, 0, 0],\n",
       " [0, 0, 4, 0, 0, 0],\n",
       " [0, 4, 4, 4, 0, 0],\n",
       " [0, 0, 4, 0, 0, 0],\n",
       " [0, 0, 0, 0, 0, 0],\n",
       " [0, 0, 0, 0, 0, 0]]"
      ]
     },
     "execution_count": 31,
     "metadata": {},
     "output_type": "execute_result"
    }
   ],
   "source": [
    "bomb_count"
   ]
  },
  {
   "cell_type": "code",
   "execution_count": 32,
   "id": "25113f87",
   "metadata": {},
   "outputs": [
    {
     "data": {
      "text/plain": [
       "[[-100, -100, -100, -100, -100, -100],\n",
       " [-100, 0, 2, 0, 0, -100],\n",
       " [-100, 2, 0, 2, 0, -100],\n",
       " [-100, 0, 2, 0, 0, -100],\n",
       " [-100, 0, 0, 0, 0, -100],\n",
       " [-100, -100, -100, -100, -100, -100]]"
      ]
     },
     "execution_count": 32,
     "metadata": {},
     "output_type": "execute_result"
    }
   ],
   "source": [
    "padded_m"
   ]
  },
  {
   "cell_type": "code",
   "execution_count": 34,
   "id": "763d0daa",
   "metadata": {},
   "outputs": [
    {
     "name": "stdout",
     "output_type": "stream",
     "text": [
      "1 1 0\n",
      "1 2 8\n",
      "1 3 8\n",
      "1 4 8\n",
      "2 1 8\n",
      "2 2 8\n",
      "2 3 8\n",
      "2 4 8\n",
      "3 1 8\n",
      "3 2 8\n",
      "3 3 8\n",
      "3 4 8\n",
      "4 1 8\n",
      "4 2 8\n",
      "4 3 8\n",
      "4 4 8\n",
      "8\n"
     ]
    }
   ],
   "source": [
    "temp = 0\n",
    "for y in range(1, n+1):\n",
    "    for x in range(1, n+1):\n",
    "        if padded_m[y][x] >= 0:\n",
    "            temp = max(temp, padded_m[y][x]*bomb_count[y][x])\n",
    "            print(y, x, temp)\n",
    "print(temp)"
   ]
  },
  {
   "cell_type": "code",
   "execution_count": null,
   "id": "56ab72eb",
   "metadata": {},
   "outputs": [],
   "source": []
  }
 ],
 "metadata": {
  "kernelspec": {
   "display_name": "Python 3",
   "language": "python",
   "name": "python3"
  },
  "language_info": {
   "codemirror_mode": {
    "name": "ipython",
    "version": 3
   },
   "file_extension": ".py",
   "mimetype": "text/x-python",
   "name": "python",
   "nbconvert_exporter": "python",
   "pygments_lexer": "ipython3",
   "version": "3.8.8"
  }
 },
 "nbformat": 4,
 "nbformat_minor": 5
}
