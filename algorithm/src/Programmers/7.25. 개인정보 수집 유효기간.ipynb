{
 "cells": [
  {
   "cell_type": "markdown",
   "id": "49b8db69",
   "metadata": {},
   "source": [
    "https://school.programmers.co.kr/learn/courses/30/lessons/150370"
   ]
  },
  {
   "cell_type": "code",
   "execution_count": 243,
   "id": "8366b1f0",
   "metadata": {},
   "outputs": [],
   "source": [
    "def solution(today, terms, privacies):\n",
    "    answer = []\n",
    "    terms_dict = {}\n",
    "    \n",
    "    today_int = []\n",
    "    for i in today.split('.'):\n",
    "        today_int.append(int(i))\n",
    "    \n",
    "    today_days = (today_int[0]-2000)*28*12+(today_int[1]-1)*28+(today_int[2]-1)\n",
    "    \n",
    "    for i in terms:\n",
    "        terms_dict[i.split()[0]] = int(i.split()[1])\n",
    "    \n",
    "    for index, p_item in enumerate(privacies):\n",
    "        target_int=[] # 날짜 정보 저장\n",
    "\n",
    "        # privacy를 날짜 부분과 알파벳으로 분리\n",
    "        target_day, target_term = p_item.split()\n",
    "\n",
    "        for i in target_day.split('.'):\n",
    "            target_int.append(int(i))\n",
    "        \n",
    "        term_days = terms_dict[target_term]*28-1\n",
    "        target_days = (target_int[0]-2000)*28*12+(target_int[1]-1)*28+(target_int[2]-1)\n",
    "        \n",
    "        if today_days > term_days+target_days:\n",
    "            answer.append(index+1)\n",
    "        \n",
    "    return answer"
   ]
  },
  {
   "cell_type": "code",
   "execution_count": 244,
   "id": "297f966e",
   "metadata": {},
   "outputs": [],
   "source": [
    "answer = []\n",
    "today=\"2022.05.19\"\t\n",
    "terms=[\"A 6\", \"B 12\", \"C 3\"]\n",
    "privacies=[\"2021.05.02 A\", \"2021.07.01 B\", \"2022.02.19 C\", \"2022.02.20 C\"]"
   ]
  },
  {
   "cell_type": "code",
   "execution_count": 245,
   "id": "076f363a",
   "metadata": {},
   "outputs": [
    {
     "name": "stdout",
     "output_type": "stream",
     "text": [
      "0 7522\n",
      "7336\n",
      "1 7522\n",
      "7559\n",
      "2 7522\n",
      "7521\n",
      "3 7522\n",
      "7522\n"
     ]
    },
    {
     "data": {
      "text/plain": [
       "[1, 3]"
      ]
     },
     "execution_count": 245,
     "metadata": {},
     "output_type": "execute_result"
    }
   ],
   "source": [
    "solution(today, terms,privacies)"
   ]
  },
  {
   "cell_type": "code",
   "execution_count": 219,
   "id": "dc264862",
   "metadata": {},
   "outputs": [],
   "source": [
    "today_int = []\n",
    "for i in today.split('.'):\n",
    "    today_int.append(int(i))"
   ]
  },
  {
   "cell_type": "code",
   "execution_count": 226,
   "id": "198eab33",
   "metadata": {},
   "outputs": [],
   "source": [
    "today_days = (today_int[0]-2000)*28*12+(today_int[1]-1)*28+(today_int[2]-1)"
   ]
  },
  {
   "cell_type": "code",
   "execution_count": 227,
   "id": "b9a65b6d",
   "metadata": {},
   "outputs": [
    {
     "data": {
      "text/plain": [
       "6720"
      ]
     },
     "execution_count": 227,
     "metadata": {},
     "output_type": "execute_result"
    }
   ],
   "source": [
    "today_days"
   ]
  },
  {
   "cell_type": "code",
   "execution_count": 233,
   "id": "597c3d16",
   "metadata": {},
   "outputs": [],
   "source": [
    "terms_dict={}\n",
    "for i in terms:\n",
    "    terms_dict[i.split()[0]] = int(i.split()[1])"
   ]
  },
  {
   "cell_type": "code",
   "execution_count": 234,
   "id": "2e707825",
   "metadata": {},
   "outputs": [
    {
     "data": {
      "text/plain": [
       "{'K': 60}"
      ]
     },
     "execution_count": 234,
     "metadata": {},
     "output_type": "execute_result"
    }
   ],
   "source": [
    "terms_dict"
   ]
  },
  {
   "cell_type": "code",
   "execution_count": null,
   "id": "abb59013",
   "metadata": {},
   "outputs": [],
   "source": [
    "terms.split()[0]"
   ]
  },
  {
   "cell_type": "code",
   "execution_count": 235,
   "id": "54bc8397",
   "metadata": {},
   "outputs": [
    {
     "name": "stdout",
     "output_type": "stream",
     "text": [
      "720 5375\n",
      "720 5376\n"
     ]
    }
   ],
   "source": [
    "for index, p_item in enumerate(privacies):\n",
    "    target_int=[] # 날짜 정보 저장\n",
    "\n",
    "    # privacy를 날짜 부분과 알파벳으로 분리\n",
    "    target_day, target_term = p_item.split()\n",
    "\n",
    "    for i in target_day.split('.'):\n",
    "        target_int.append(int(i))\n",
    "\n",
    "    term_days = terms_dict[target_term]*28\n",
    "    target_days = (target_int[0]-2000)*28*12+(target_int[1]-1)*28+(target_int[2]-1)\n",
    "    print(term_days, target_days)"
   ]
  },
  {
   "cell_type": "code",
   "execution_count": null,
   "id": "09e7409f",
   "metadata": {},
   "outputs": [],
   "source": []
  }
 ],
 "metadata": {
  "kernelspec": {
   "display_name": "Python 3",
   "language": "python",
   "name": "python3"
  },
  "language_info": {
   "codemirror_mode": {
    "name": "ipython",
    "version": 3
   },
   "file_extension": ".py",
   "mimetype": "text/x-python",
   "name": "python",
   "nbconvert_exporter": "python",
   "pygments_lexer": "ipython3",
   "version": "3.8.8"
  }
 },
 "nbformat": 4,
 "nbformat_minor": 5
}
