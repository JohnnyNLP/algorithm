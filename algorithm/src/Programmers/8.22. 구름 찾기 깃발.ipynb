{
 "cells": [
  {
   "cell_type": "markdown",
   "id": "caf7408f",
   "metadata": {},
   "source": [
    "https://level.goorm.io/exam/195689/%EA%B5%AC%EB%A6%84-%EC%B0%BE%EA%B8%B0-%EA%B9%83%EB%B0%9C/quiz/1"
   ]
  },
  {
   "cell_type": "code",
   "execution_count": null,
   "id": "f711ecdf",
   "metadata": {},
   "outputs": [],
   "source": [
    "n, k = map(int, input().split())\n",
    "m = []\n",
    "dic = {}\n",
    "\n",
    "# 매트릭스 받아오기\n",
    "for i in range(n):\n",
    "\tm.append(list(map(int, input().split())))\n",
    "\n",
    "# k값과 그 개수를 담을 딕셔너리\n",
    "for i in range(0, 9):\n",
    "    dic[i]=0\n",
    "\n",
    "# 매트릭스 m을 0으로 한 겹 둘러싼다.\n",
    "padded_m = [[0]*(n+2)]\n",
    "for i in m:\n",
    "\tpadded_m += [[0]+i+[0]]\n",
    "padded_m += [[0]*(n+2)]\n",
    "\t\t\n",
    "# 경계 행/렬을 제외한 가운뎃부분은 8곳을 모두 참조할 수 있다.\n",
    "for r in range(1, n+1):\n",
    "\tfor c in range(1, n+1):\n",
    "\n",
    "\t\tif padded_m[r][c] != 1:\n",
    "\t\t\t# (r+1, c+1) 지점 주변 8곳을 참조하고 그 값을 temp에 더해준다.\n",
    "\t\t\t\n",
    "\t\t\ttemp = 0\n",
    "\t\t\ttemp += padded_m[r-1][c-1]\n",
    "\t\t\ttemp += padded_m[r][c-1]\n",
    "\t\t\ttemp += padded_m[r+1][c-1]\n",
    "\t\t\ttemp += padded_m[r-1][c]\n",
    "\t\t\ttemp += padded_m[r+1][c]\n",
    "\t\t\ttemp += padded_m[r-1][c+1]\n",
    "\t\t\ttemp += padded_m[r][c+1]\n",
    "\t\t\ttemp += padded_m[r+1][c+1]\n",
    "\n",
    "\t\t\tdic[temp] += 1\n",
    "\t\t\n",
    "print(dic[k])"
   ]
  },
  {
   "cell_type": "code",
   "execution_count": 3,
   "id": "25e264f7",
   "metadata": {},
   "outputs": [
    {
     "ename": "AttributeError",
     "evalue": "module 'os' has no attribute 'input'",
     "output_type": "error",
     "traceback": [
      "\u001b[1;31m---------------------------------------------------------------------------\u001b[0m",
      "\u001b[1;31mAttributeError\u001b[0m                            Traceback (most recent call last)",
      "\u001b[1;32m<ipython-input-3-d8302d1bf1ed>\u001b[0m in \u001b[0;36m<module>\u001b[1;34m\u001b[0m\n\u001b[0;32m      1\u001b[0m \u001b[1;32mimport\u001b[0m \u001b[0mos\u001b[0m\u001b[1;33m\u001b[0m\u001b[1;33m\u001b[0m\u001b[0m\n\u001b[0;32m      2\u001b[0m \u001b[1;33m\u001b[0m\u001b[0m\n\u001b[1;32m----> 3\u001b[1;33m \u001b[0mos\u001b[0m\u001b[1;33m.\u001b[0m\u001b[0minput\u001b[0m\u001b[1;33m(\u001b[0m\u001b[1;33m)\u001b[0m\u001b[1;33m\u001b[0m\u001b[1;33m\u001b[0m\u001b[0m\n\u001b[0m",
      "\u001b[1;31mAttributeError\u001b[0m: module 'os' has no attribute 'input'"
     ]
    }
   ],
   "source": [
    "import os\n",
    "\n",
    "os.input()"
   ]
  },
  {
   "cell_type": "code",
   "execution_count": 5,
   "id": "0d39de9c",
   "metadata": {},
   "outputs": [],
   "source": [
    "dic = {}"
   ]
  },
  {
   "cell_type": "code",
   "execution_count": 6,
   "id": "32894251",
   "metadata": {},
   "outputs": [],
   "source": [
    "for i in range(0, 9):\n",
    "    dic[i]=0"
   ]
  },
  {
   "cell_type": "code",
   "execution_count": 7,
   "id": "93f902f8",
   "metadata": {},
   "outputs": [
    {
     "data": {
      "text/plain": [
       "{0: 0, 1: 0, 2: 0, 3: 0, 4: 0, 5: 0, 6: 0, 7: 0, 8: 0}"
      ]
     },
     "execution_count": 7,
     "metadata": {},
     "output_type": "execute_result"
    }
   ],
   "source": [
    "dic"
   ]
  },
  {
   "cell_type": "code",
   "execution_count": 8,
   "id": "7edfe817",
   "metadata": {},
   "outputs": [],
   "source": [
    "list = [1, 2, 3, 4]"
   ]
  },
  {
   "cell_type": "code",
   "execution_count": 10,
   "id": "2c97c47a",
   "metadata": {},
   "outputs": [
    {
     "ename": "IndexError",
     "evalue": "list index out of range",
     "output_type": "error",
     "traceback": [
      "\u001b[1;31m---------------------------------------------------------------------------\u001b[0m",
      "\u001b[1;31mIndexError\u001b[0m                                Traceback (most recent call last)",
      "\u001b[1;32m<ipython-input-10-60b58d4d9246>\u001b[0m in \u001b[0;36m<module>\u001b[1;34m\u001b[0m\n\u001b[1;32m----> 1\u001b[1;33m \u001b[0mlist\u001b[0m\u001b[1;33m[\u001b[0m\u001b[1;36m5\u001b[0m\u001b[1;33m]\u001b[0m\u001b[1;33m\u001b[0m\u001b[1;33m\u001b[0m\u001b[0m\n\u001b[0m",
      "\u001b[1;31mIndexError\u001b[0m: list index out of range"
     ]
    }
   ],
   "source": [
    "list[5]"
   ]
  },
  {
   "cell_type": "code",
   "execution_count": 14,
   "id": "1065eeac",
   "metadata": {},
   "outputs": [
    {
     "name": "stdout",
     "output_type": "stream",
     "text": [
      "1\n",
      "2\n",
      "3\n",
      "4\n"
     ]
    }
   ],
   "source": [
    "for r in range(1, 5):\n",
    "    print(r)"
   ]
  },
  {
   "cell_type": "code",
   "execution_count": 15,
   "id": "0e1041e5",
   "metadata": {},
   "outputs": [],
   "source": [
    "n=4"
   ]
  },
  {
   "cell_type": "code",
   "execution_count": 22,
   "id": "1970471f",
   "metadata": {},
   "outputs": [
    {
     "name": "stdout",
     "output_type": "stream",
     "text": [
      "[[0, 0, 0, 0, 0, 0]]\n"
     ]
    }
   ],
   "source": [
    "padded_m = [[0]*(n+2)]\n",
    "print(padded_m)"
   ]
  },
  {
   "cell_type": "code",
   "execution_count": 23,
   "id": "2ead7cfb",
   "metadata": {},
   "outputs": [
    {
     "name": "stdout",
     "output_type": "stream",
     "text": [
      "[[0, 0, 0, 0, 0, 0], [0, 0, 0, 0, 0, 0]]\n"
     ]
    }
   ],
   "source": [
    "print(padded_m + [[0]*(n+2)])"
   ]
  },
  {
   "cell_type": "code",
   "execution_count": 24,
   "id": "55b567ae",
   "metadata": {},
   "outputs": [
    {
     "data": {
      "text/plain": [
       "[0, 1, 2, 3, 4, 0]"
      ]
     },
     "execution_count": 24,
     "metadata": {},
     "output_type": "execute_result"
    }
   ],
   "source": [
    "[0]+[1,2,3,4]+[0]"
   ]
  },
  {
   "cell_type": "code",
   "execution_count": 25,
   "id": "ddb28365",
   "metadata": {},
   "outputs": [],
   "source": [
    "l = [[1,2,3,4],[1,2,3,4],[1,2,3,4]]"
   ]
  },
  {
   "cell_type": "code",
   "execution_count": 26,
   "id": "0ccad1fa",
   "metadata": {},
   "outputs": [
    {
     "name": "stdout",
     "output_type": "stream",
     "text": [
      "[0, 1, 2, 3, 4, 0]\n",
      "[0, 1, 2, 3, 4, 0]\n",
      "[0, 1, 2, 3, 4, 0]\n"
     ]
    }
   ],
   "source": [
    "for i in l:\n",
    "    print([0]+i+[0])"
   ]
  },
  {
   "cell_type": "code",
   "execution_count": null,
   "id": "84360b97",
   "metadata": {},
   "outputs": [],
   "source": []
  }
 ],
 "metadata": {
  "kernelspec": {
   "display_name": "Python 3",
   "language": "python",
   "name": "python3"
  },
  "language_info": {
   "codemirror_mode": {
    "name": "ipython",
    "version": 3
   },
   "file_extension": ".py",
   "mimetype": "text/x-python",
   "name": "python",
   "nbconvert_exporter": "python",
   "pygments_lexer": "ipython3",
   "version": "3.8.8"
  }
 },
 "nbformat": 4,
 "nbformat_minor": 5
}
