{
 "cells": [
  {
   "cell_type": "markdown",
   "id": "a1924cd5-8547-458e-b7a8-7565e030cee5",
   "metadata": {},
   "source": [
    "https://www.acmicpc.net/problem/2018"
   ]
  },
  {
   "cell_type": "markdown",
   "id": "c2e8b564-83f5-49e3-a566-c0c9374931d6",
   "metadata": {},
   "source": [
    "# 문제\n",
    "어떠한 자연수 N은, 몇 개의 연속된 자연수의 합으로 나타낼 수 있다. 당신은 어떤 자연수 N(1 ≤ N ≤ 10,000,000)에 대해서, 이 N을 몇 개의 연속된 자연수의 합으로 나타내는 가지수를 알고 싶어한다. 이때, 사용하는 자연수는 N이하여야 한다.\n",
    "\n",
    "예를 들어, 15를 나타내는 방법은 15, 7+8, 4+5+6, 1+2+3+4+5의 4가지가 있다. 반면에 10을 나타내는 방법은 10, 1+2+3+4의 2가지가 있다.\n",
    "\n",
    "N을 입력받아 가지수를 출력하는 프로그램을 작성하시오.\n",
    "\n",
    "# 입력\n",
    "첫 줄에 정수 N이 주어진다.\n",
    "\n",
    "# 출력\n",
    "입력된 자연수 N을 몇 개의 연속된 자연수의 합으로 나타내는 가지수를 출력하시오"
   ]
  },
  {
   "cell_type": "code",
   "execution_count": 75,
   "id": "c4043aca-9a14-4525-aaa0-fa5884a0d24d",
   "metadata": {},
   "outputs": [
    {
     "name": "stdin",
     "output_type": "stream",
     "text": [
      " 15\n"
     ]
    }
   ],
   "source": [
    "n = int(input())"
   ]
  },
  {
   "cell_type": "code",
   "execution_count": 111,
   "id": "35522be7-cd97-40dc-bcc5-912087883962",
   "metadata": {},
   "outputs": [],
   "source": [
    "#num_list = [num+1 for num in range(n)]\n",
    "sum_list = [0]*(n+1)\n",
    "\n",
    "for i in range(n):\n",
    "    sum_list[i+1] = sum_list[i]+(i+1)\n",
    "\n",
    "count = 1\n",
    "left_index = 0\n",
    "right_index = 1"
   ]
  },
  {
   "cell_type": "code",
   "execution_count": 112,
   "id": "f9bcc3b0-2ac8-4d68-9ba4-e01302c17e3c",
   "metadata": {},
   "outputs": [
    {
     "data": {
      "text/plain": [
       "[1, 2, 3, 4, 5, 6, 7, 8, 9, 10, 11, 12, 13, 14, 15]"
      ]
     },
     "execution_count": 112,
     "metadata": {},
     "output_type": "execute_result"
    }
   ],
   "source": [
    "num_list"
   ]
  },
  {
   "cell_type": "code",
   "execution_count": 113,
   "id": "325ea50b-0aa0-49d4-972c-8603961944d1",
   "metadata": {},
   "outputs": [
    {
     "data": {
      "text/plain": [
       "[0, 1, 3, 6, 10, 15, 21, 28, 36, 45, 55, 66, 78, 91, 105, 120]"
      ]
     },
     "execution_count": 113,
     "metadata": {},
     "output_type": "execute_result"
    }
   ],
   "source": [
    "sum_list"
   ]
  },
  {
   "cell_type": "code",
   "execution_count": 114,
   "id": "e8d498e9-28a5-4a61-bf8e-26924c56002c",
   "metadata": {},
   "outputs": [
    {
     "name": "stdout",
     "output_type": "stream",
     "text": [
      "0 5\n",
      "3 6\n",
      "6 8\n",
      "14 15\n"
     ]
    }
   ],
   "source": [
    "while right_index != n:\n",
    "    if sum_list[right_index+1]-sum_list[left_index] < n:\n",
    "        right_index += 1\n",
    "    elif sum_list[right_index+1]-sum_list[left_index] > n:\n",
    "        left_index += 1\n",
    "    elif sum_list[right_index+1]-sum_list[left_index] == n:\n",
    "        right_index += 1\n",
    "        count += 1\n",
    "        print(left_index, right_index)"
   ]
  },
  {
   "cell_type": "code",
   "execution_count": 115,
   "id": "5525f5b8-e543-45a2-a20d-13eebaab2efe",
   "metadata": {},
   "outputs": [
    {
     "data": {
      "text/plain": [
       "5"
      ]
     },
     "execution_count": 115,
     "metadata": {},
     "output_type": "execute_result"
    }
   ],
   "source": [
    "count"
   ]
  },
  {
   "cell_type": "markdown",
   "id": "09e7362c-7367-4e1b-b7a7-a71c9a351100",
   "metadata": {},
   "source": [
    "메모리 부족 오류 발생 ... sum_list를 생성하지 않고 바로 값을 더해주는 방식을 적용하자.  \n",
    "num_list도 사실상 불필요  \n",
    "index를 바로 더해도 식이 성립하도록 구성을 짜보자!  "
   ]
  },
  {
   "cell_type": "code",
   "execution_count": 104,
   "id": "c33111a0-2e26-4edd-b2c9-433238dce78e",
   "metadata": {},
   "outputs": [],
   "source": [
    "count = 1\n",
    "left_index = 0\n",
    "right_index = 1\n",
    "sum=1"
   ]
  },
  {
   "cell_type": "code",
   "execution_count": 105,
   "id": "4cd9da8a-f757-4210-8e2d-4b45e08e4c6b",
   "metadata": {},
   "outputs": [
    {
     "name": "stdout",
     "output_type": "stream",
     "text": [
      "0 6 21\n",
      "3 7 22\n",
      "6 9 24\n"
     ]
    }
   ],
   "source": [
    "while right_index != n:\n",
    "    if sum < n:\n",
    "        right_index += 1\n",
    "        sum += right_index\n",
    "    elif sum > n:\n",
    "        left_index += 1\n",
    "        sum -= left_index\n",
    "    elif sum == n:\n",
    "        right_index += 1\n",
    "        sum += right_index\n",
    "        count += 1"
   ]
  },
  {
   "cell_type": "code",
   "execution_count": 103,
   "id": "8ed20b0c-66ca-489c-8a27-067b6009d8b3",
   "metadata": {},
   "outputs": [
    {
     "data": {
      "text/plain": [
       "4"
      ]
     },
     "execution_count": 103,
     "metadata": {},
     "output_type": "execute_result"
    }
   ],
   "source": [
    "count"
   ]
  },
  {
   "cell_type": "code",
   "execution_count": null,
   "id": "3f415a0d-e285-40df-a2c0-6b00c6c92a2f",
   "metadata": {},
   "outputs": [],
   "source": []
  }
 ],
 "metadata": {
  "kernelspec": {
   "display_name": "Python 3 (ipykernel)",
   "language": "python",
   "name": "python3"
  },
  "language_info": {
   "codemirror_mode": {
    "name": "ipython",
    "version": 3
   },
   "file_extension": ".py",
   "mimetype": "text/x-python",
   "name": "python",
   "nbconvert_exporter": "python",
   "pygments_lexer": "ipython3",
   "version": "3.11.5"
  }
 },
 "nbformat": 4,
 "nbformat_minor": 5
}
