{
 "cells": [
  {
   "cell_type": "markdown",
   "id": "692c115b-4560-4895-8fc5-ce275e1decc9",
   "metadata": {},
   "source": [
    "https://www.acmicpc.net/problem/1940"
   ]
  },
  {
   "cell_type": "markdown",
   "id": "1967dca2-bbc6-4115-8b6e-1d6ceff96189",
   "metadata": {},
   "source": [
    "## 문제\r\n",
    "주몽은 철기군을 양성하기 위한 프로젝트에 나섰다. 그래서 야철대장을 통해 철기군이 입을 갑옷을 만들게 하였다. 야철대장은 주몽의 명에 따르기 위하여 연구에 착수하던 중 아래와 같은 사실을 발견하게 되었다  .\r\n",
    "\r\n",
    "갑옷을 만드는 재료들은 각각 고유한 번호를 가지고 있다. 갑옷은 두 개의 재료로 만드는데 두 재료의 고유한 번호를 합쳐서 M(1 ≤ M ≤ 10,000,000)이 되면 갑옷이 만들어 지게 된다. 야철대장은 자신이 만들고 있는 재료를 가지고 갑옷을 몇 개나 만들 수 있는지 궁금해졌다. 이러한 궁금증을 풀어 주기 위하여 N(1 ≤ N ≤ 15,000) 개의 재료와 M이 주어졌을 때 몇 개의 갑옷을 만들 수 있는지를 구하는 프로그램을 작성하  시오## .\r\n",
    "\r\n",
    "입력\r\n",
    "첫째 줄에는 재료의 개수 N(1 ≤ N ≤ 15,000)이 주어진다. 그리고 두 번째 줄에는 갑옷을 만드는데 필요한 수 M(1 ≤ M ≤ 10,000,000) 주어진다. 그리고 마지막으로 셋째 줄에는 N개의 재료들이 가진 고유한 번호들이 공백을 사이에 두고 주어진다. 고유한 번호는 100,000보다 작거나 같은   자연## 수이다.\r\n",
    "\r\n",
    "출력\r\n",
    "첫째 줄에 갑옷을 만들 수 있는 개수를 출력한다."
   ]
  },
  {
   "cell_type": "code",
   "execution_count": 4,
   "id": "19e1aea7-901b-4d34-9ecf-3d3fa1966881",
   "metadata": {},
   "outputs": [
    {
     "name": "stdin",
     "output_type": "stream",
     "text": [
      " 6\n",
      " 9\n",
      " 2 7 4 1 5 3\n"
     ]
    }
   ],
   "source": [
    "n = int(input())\n",
    "m = int(input())\n",
    "id_num = list(map(int, input().split()))"
   ]
  },
  {
   "cell_type": "code",
   "execution_count": 6,
   "id": "4e2bb020-5230-4147-89c7-2a76f18e1865",
   "metadata": {},
   "outputs": [],
   "source": [
    "id_num.sort()"
   ]
  },
  {
   "cell_type": "code",
   "execution_count": 7,
   "id": "98598aec-190f-479c-810c-0e7ba8c1a6b0",
   "metadata": {},
   "outputs": [
    {
     "data": {
      "text/plain": [
       "[1, 2, 3, 4, 5, 7]"
      ]
     },
     "execution_count": 7,
     "metadata": {},
     "output_type": "execute_result"
    }
   ],
   "source": [
    "id_num"
   ]
  },
  {
   "cell_type": "code",
   "execution_count": 11,
   "id": "9267c0fc-d11b-4f71-b212-16924b9ef65f",
   "metadata": {},
   "outputs": [
    {
     "name": "stdout",
     "output_type": "stream",
     "text": [
      "2 7\n",
      "4 5\n"
     ]
    }
   ],
   "source": [
    "count = 0\n",
    "left_index = 0\n",
    "right_index = n-1\n",
    "\n",
    "while right_index > left_index:\n",
    "    if id_num[left_index]+id_num[right_index] > m:\n",
    "        right_index -= 1\n",
    "    elif id_num[left_index]+id_num[right_index] < m:\n",
    "        left_index += 1\n",
    "    elif id_num[left_index]+id_num[right_index] == m:\n",
    "        # print(id_num[left_index], id_num[right_index])\n",
    "        count += 1\n",
    "        right_index -= 1\n",
    "        left_index += 1"
   ]
  },
  {
   "cell_type": "code",
   "execution_count": 10,
   "id": "ead49994-ae69-48cd-ba24-728b53d9363d",
   "metadata": {},
   "outputs": [
    {
     "data": {
      "text/plain": [
       "2"
      ]
     },
     "execution_count": 10,
     "metadata": {},
     "output_type": "execute_result"
    }
   ],
   "source": [
    "count"
   ]
  },
  {
   "cell_type": "code",
   "execution_count": null,
   "id": "2b7b9a7d-9438-4a8c-a8ba-59cb9a078932",
   "metadata": {},
   "outputs": [],
   "source": []
  }
 ],
 "metadata": {
  "kernelspec": {
   "display_name": "Python 3 (ipykernel)",
   "language": "python",
   "name": "python3"
  },
  "language_info": {
   "codemirror_mode": {
    "name": "ipython",
    "version": 3
   },
   "file_extension": ".py",
   "mimetype": "text/x-python",
   "name": "python",
   "nbconvert_exporter": "python",
   "pygments_lexer": "ipython3",
   "version": "3.11.5"
  }
 },
 "nbformat": 4,
 "nbformat_minor": 5
}
