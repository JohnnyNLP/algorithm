{
 "cells": [
  {
   "cell_type": "markdown",
   "id": "d84cb1e7-a4d8-4cac-8391-9cceb8bcbef8",
   "metadata": {},
   "source": [
    "https://www.acmicpc.net/problem/1253"
   ]
  },
  {
   "cell_type": "markdown",
   "id": "4d173180-d047-4ae1-ac6a-55237bc2f1d1",
   "metadata": {},
   "source": [
    "# 문제\r\n",
    "N개의 수 중에서 어떤 수가 다른 수 두 개의 합으로 나타낼 수 있다면 그 수를 “좋다(GOOD)”고 한다.\r\n",
    "\r\n",
    "N개의 수가 주어지면 그 중에서 좋은 수의 개수는 몇 개인지 출력하라.\r\n",
    "\r\n",
    "수의 위치가 다르면 값이 같아도 다른 수# 이다.\r\n",
    "\r\n",
    "입력\r\n",
    "첫째 줄에는 수의 개수 N(1 ≤ N ≤ 2,000), 두 번째 줄에는 i번째 수를 나타내는 Ai가 N개 주어진다. (|Ai| ≤ 1,000,000,000, A# i는 정수)\r\n",
    "\r\n",
    "출력\r\n",
    "좋은 수의 개수를 첫 번째 줄에 출력한다."
   ]
  },
  {
   "cell_type": "code",
   "execution_count": 42,
   "id": "36bbd8d8-4a43-405b-9da2-bbf9c72c135d",
   "metadata": {},
   "outputs": [
    {
     "name": "stdin",
     "output_type": "stream",
     "text": [
      " 5\n",
      " 0 0 1 1 1\n"
     ]
    }
   ],
   "source": [
    "n = int(input())\n",
    "num_list = list(map(int, input().split()))\n",
    "num_list.sort()"
   ]
  },
  {
   "cell_type": "markdown",
   "id": "2f2f5ad7-e759-4d18-8087-32275acaa28d",
   "metadata": {},
   "source": [
    "정렬 후에 [2]번 인덱스부터 커서를 하나씩 우측으로 옮긴다.\n",
    "이때 커서를 range로 하여 투 포인터 연산을 실행한다."
   ]
  },
  {
   "cell_type": "code",
   "execution_count": 43,
   "id": "6d7e302c-2111-4365-8473-b208012a406a",
   "metadata": {},
   "outputs": [
    {
     "data": {
      "text/plain": [
       "[0, 0, 1, 1, 1]"
      ]
     },
     "execution_count": 43,
     "metadata": {},
     "output_type": "execute_result"
    }
   ],
   "source": [
    "num_list"
   ]
  },
  {
   "cell_type": "code",
   "execution_count": 48,
   "id": "30861998-f692-4d44-ae80-67e074aef7c5",
   "metadata": {},
   "outputs": [
    {
     "name": "stdout",
     "output_type": "stream",
     "text": [
      "0 0 0 0\n",
      "0 0 0 1\n",
      "0 1 1 3\n",
      "0 1 1 4\n",
      "4\n"
     ]
    }
   ],
   "source": [
    "count = 0\n",
    "cursor = 0\n",
    "\n",
    "while cursor <= n-1:\n",
    "    left_index = 0\n",
    "    right_index = 1 if cursor <= 1 else cursor-1\n",
    "    while right_index > left_index:\n",
    "        if num_list[left_index]+num_list[right_index] > num_list[cursor]:\n",
    "            right_index -= 1\n",
    "        elif num_list[left_index]+num_list[right_index] < num_list[cursor]:\n",
    "            left_index += 1\n",
    "        elif num_list[left_index]+num_list[right_index] == num_list[cursor]:\n",
    "            print(num_list[left_index], num_list[right_index], num_list[cursor], cursor)\n",
    "            count += 1\n",
    "            break\n",
    "    cursor += 1\n",
    "print(count)"
   ]
  },
  {
   "cell_type": "markdown",
   "id": "7f59d187-5626-4b7d-a9b7-27c9db61dbc7",
   "metadata": {},
   "source": [
    "핵심은 우측 인덱스를 커서 왼쪽에 둘 게 아니라, 오른쪽 끝부터 차례로 돌리는 것이었다.  \n",
    "\n",
    "일반적으로 겹치지 않는 오름차순 정렬이라면 왼쪽만 살펴봐도 됐겠지만, 위 문제에서는 특이하게 '수의 위치가 다르면 값이 같아도 다른 수이다.'라는 단서를 주고 있다.  \n",
    "이 말은 0 0 0 0과 같이 모두 겹치는 수로 구성이 될 경우, 답은 4가 된다. 즉, 커서와 같지 않은 조합으로 구성할 수만 있다면 모두 OK라는 것이다."
   ]
  },
  {
   "cell_type": "code",
   "execution_count": 47,
   "id": "48cb6ca8-b567-4aa3-8708-eab154f1b2a7",
   "metadata": {},
   "outputs": [
    {
     "name": "stdout",
     "output_type": "stream",
     "text": [
      "0 1 1 2\n",
      "0 1 1 3\n",
      "0 1 1 4\n",
      "3\n"
     ]
    }
   ],
   "source": [
    "count = 0\n",
    "cursor = 0\n",
    "\n",
    "while cursor <= n-1:\n",
    "    left_index = 0\n",
    "    right_index = n-1\n",
    "    while right_index > left_index:\n",
    "        if num_list[left_index]+num_list[right_index] > num_list[cursor]:\n",
    "            right_index -= 1\n",
    "        elif num_list[left_index]+num_list[right_index] < num_list[cursor]:\n",
    "            left_index += 1\n",
    "        elif num_list[left_index]+num_list[right_index] == num_list[cursor]:\n",
    "            if right_index == cursor:\n",
    "                right_index -= 1\n",
    "            elif left_index == cursor:\n",
    "                left_index += 1\n",
    "            else :\n",
    "                count += 1\n",
    "                break\n",
    "    cursor += 1\n",
    "print(count)"
   ]
  },
  {
   "cell_type": "code",
   "execution_count": null,
   "id": "42a65d40-3d16-414d-ad0f-56148056d5bf",
   "metadata": {},
   "outputs": [],
   "source": []
  }
 ],
 "metadata": {
  "kernelspec": {
   "display_name": "Python 3 (ipykernel)",
   "language": "python",
   "name": "python3"
  },
  "language_info": {
   "codemirror_mode": {
    "name": "ipython",
    "version": 3
   },
   "file_extension": ".py",
   "mimetype": "text/x-python",
   "name": "python",
   "nbconvert_exporter": "python",
   "pygments_lexer": "ipython3",
   "version": "3.11.5"
  }
 },
 "nbformat": 4,
 "nbformat_minor": 5
}
