{
 "cells": [
  {
   "cell_type": "markdown",
   "id": "ba13120a-6045-4f9b-9149-92d3aa984b10",
   "metadata": {},
   "source": [
    "https://www.acmicpc.net/problem/10986"
   ]
  },
  {
   "cell_type": "markdown",
   "id": "b7bbc926-887c-4889-8087-ba558471c66d",
   "metadata": {},
   "source": [
    "# 문제\n",
    "수 N개 A1, A2, ..., AN이 주어진다. 이때, 연속된 부분 구간의 합이 M으로 나누어 떨어지는 구간의 개수를 구하는 프로그램을 작성하시오.\n",
    "\n",
    "즉, Ai + ... + Aj (i ≤ j) 의 합이 M으로 나누어 떨어지는 (i, j) 쌍의 개수를 구해야 한다.\n",
    "\n",
    "# 입력\n",
    "첫째 줄에 N과 M이 주어진다. (1 ≤ N ≤ 106, 2 ≤ M ≤ 103)\n",
    "\n",
    "둘째 줄에 N개의 수 A1, A2, ..., AN이 주어진다. (0 ≤ Ai ≤ 109)\n",
    "\n",
    "# 출력\n",
    "첫째 줄에 연속된 부분 구간의 합이 M으로 나누어 떨어지는 구간의 개수를 출력한다."
   ]
  },
  {
   "cell_type": "code",
   "execution_count": 106,
   "id": "f8150a5d-43fc-4a06-9e54-a8b65d0c9625",
   "metadata": {},
   "outputs": [
    {
     "name": "stdin",
     "output_type": "stream",
     "text": [
      " 5 3\n",
      " 3 3 3 3 3\n"
     ]
    },
    {
     "name": "stdout",
     "output_type": "stream",
     "text": [
      "15\n"
     ]
    }
   ],
   "source": [
    "n, m = map(int, input().split())\n",
    "num_list = list(map(int, input().split()))\n",
    "sum_list = [0]*n\n",
    "remainder = [0]*m\n",
    "result=0\n",
    "\n",
    "# 부분합 리스트 생성\n",
    "for i in range(n):\n",
    "    sum_list[i] = sum_list[i-1]+num_list[i]\n",
    "\n",
    "# 0에서 3의 배수까지 구간이 설정된 경우  -> 바로 결과에 += 1\n",
    "for num in sum_list:\n",
    "    if num % m == 0:\n",
    "        result += 1\n",
    "        remainder[0] += 1\n",
    "    else :\n",
    "        remainder[num % m] += 1\n",
    "\n",
    "# 나머지가 같은 값 사이의 구간으로 설정된 경우 -> kC2\n",
    "for k in remainder:\n",
    "    if k >= 2:\n",
    "        result += (k*(k-1))//2\n",
    "\n",
    "print(result)"
   ]
  },
  {
   "cell_type": "code",
   "execution_count": 102,
   "id": "ce181020-f588-4f5d-8d10-b108da9b156a",
   "metadata": {},
   "outputs": [
    {
     "data": {
      "text/plain": [
       "[3, 3, 3, 3, 3]"
      ]
     },
     "execution_count": 102,
     "metadata": {},
     "output_type": "execute_result"
    }
   ],
   "source": [
    "num_list"
   ]
  },
  {
   "cell_type": "code",
   "execution_count": 103,
   "id": "c0dbd6c5-84f5-4846-a2d9-0897c74a6de8",
   "metadata": {},
   "outputs": [
    {
     "data": {
      "text/plain": [
       "[3, 6, 9, 12, 15]"
      ]
     },
     "execution_count": 103,
     "metadata": {},
     "output_type": "execute_result"
    }
   ],
   "source": [
    "sum_list"
   ]
  },
  {
   "cell_type": "code",
   "execution_count": 97,
   "id": "e5d9ba0a-fadf-449d-b30c-b953fbf1b89f",
   "metadata": {},
   "outputs": [],
   "source": [
    "# # 0에서 3의 배수까지 구간이 설정된 경우  -> 바로 결과에 += 1\n",
    "# for num in sum_list:\n",
    "#     if num % 3 == 0:\n",
    "#         result += 1\n",
    "#         remainder[0] += 1\n",
    "#     else :\n",
    "#         remainder[num % 3] += 1"
   ]
  },
  {
   "cell_type": "code",
   "execution_count": 104,
   "id": "7f5fd8b7-acab-4e0f-ab33-5345a9810ada",
   "metadata": {},
   "outputs": [
    {
     "data": {
      "text/plain": [
       "[5, 0, 0]"
      ]
     },
     "execution_count": 104,
     "metadata": {},
     "output_type": "execute_result"
    }
   ],
   "source": [
    "remainder"
   ]
  },
  {
   "cell_type": "code",
   "execution_count": 99,
   "id": "05f31ea7-eb7f-41bf-9228-da2f530521c1",
   "metadata": {},
   "outputs": [],
   "source": [
    "# # 나머지가 같은 값 사이의 구간으로 설정된 경우 -> kC2\n",
    "# for k in remainder:\n",
    "#     if k >= 2:\n",
    "#         result += (k*(k-1))//2"
   ]
  },
  {
   "cell_type": "code",
   "execution_count": 105,
   "id": "fa707aac-8553-4e0d-a89f-01e1cdd923bd",
   "metadata": {},
   "outputs": [
    {
     "data": {
      "text/plain": [
       "15"
      ]
     },
     "execution_count": 105,
     "metadata": {},
     "output_type": "execute_result"
    }
   ],
   "source": [
    "result"
   ]
  },
  {
   "cell_type": "code",
   "execution_count": null,
   "id": "cc724d7d-5c99-4614-9867-616e4270d1c2",
   "metadata": {},
   "outputs": [],
   "source": []
  }
 ],
 "metadata": {
  "kernelspec": {
   "display_name": "Python 3 (ipykernel)",
   "language": "python",
   "name": "python3"
  },
  "language_info": {
   "codemirror_mode": {
    "name": "ipython",
    "version": 3
   },
   "file_extension": ".py",
   "mimetype": "text/x-python",
   "name": "python",
   "nbconvert_exporter": "python",
   "pygments_lexer": "ipython3",
   "version": "3.11.5"
  }
 },
 "nbformat": 4,
 "nbformat_minor": 5
}
