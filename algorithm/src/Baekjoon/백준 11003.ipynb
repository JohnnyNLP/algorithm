{
 "cells": [
  {
   "cell_type": "markdown",
   "id": "3b2c0ecb-a810-4842-b435-d412ded6c23b",
   "metadata": {},
   "source": [
    "https://www.acmicpc.net/problem/11003"
   ]
  },
  {
   "cell_type": "markdown",
   "id": "7df6b415-7c07-447d-89d5-67ee491e1dc4",
   "metadata": {},
   "source": [
    "## 문제\n",
    "N개의 수 A1, A2, ..., AN과 L이 주어진다.\n",
    "\n",
    "Di = Ai-L+1 ~ Ai 중의 최솟값이라고 할 때, D에 저장된 수를 출력하는 프로그램을 작성하시오. 이때, i ≤ 0 인 Ai는 무시하고 D를 구해야 한다.\n",
    "\n",
    "## 입력\n",
    "첫째 줄에 N과 L이 주어진다. (1 ≤ L ≤ N ≤ 5,000,000)\n",
    "\n",
    "둘째 줄에는 N개의 수 Ai가 주어진다. (-109 ≤ Ai ≤ 109)\n",
    "\n",
    "## 출력\n",
    "첫째 줄에 Di를 공백으로 구분하여 순서대로 출력한다."
   ]
  },
  {
   "cell_type": "code",
   "execution_count": 2,
   "id": "9c7e12f6-6636-46d1-90a8-02667d9dbf2b",
   "metadata": {},
   "outputs": [
    {
     "name": "stdin",
     "output_type": "stream",
     "text": [
      " 12 3\n",
      " 1 5 2 3 6 2 3 7 3 5 2 6\n"
     ]
    }
   ],
   "source": [
    "n, l = map(int, input().split())\n",
    "A = list(map(int, input().split()))"
   ]
  },
  {
   "cell_type": "code",
   "execution_count": 18,
   "id": "68b1b6be-02b1-4b60-86c7-79a84ccc7a8e",
   "metadata": {},
   "outputs": [
    {
     "name": "stdout",
     "output_type": "stream",
     "text": [
      "1 1 1 2 2 2 2 2 3 3 2 2 "
     ]
    }
   ],
   "source": [
    "check_list = []\n",
    "\n",
    "for i in range(n):\n",
    "    if len(check_list) == l:\n",
    "        check_list.pop(0)\n",
    "        check_list.append(A[i])\n",
    "    else:\n",
    "        check_list.append(A[i])\n",
    "\n",
    "    print(min(check_list), end=' ')"
   ]
  },
  {
   "cell_type": "markdown",
   "id": "91590285-5be7-4d18-a4cb-badd338dca4c",
   "metadata": {},
   "source": [
    "시간 초과 발생\n",
    "- 조금 더 가벼운 자료형이 필요하다.  \n",
    "- 위 방법에서는 min으로 매번 리스트를 탐색하고 최솟값을 찾아야 하기 때문에 연산 비용이 발생한다.  \n",
    "- 정렬 기능까지 기대할 수 있는 큐 형태로 문제를 접근해보자.\n",
    "- 구현해야 하는 기능은 두 가지다.\n",
    "    1) 인덱스가 윈도우를 벗어날 경우 pop해준다 (좌측에서 빠져나감)\n",
    "    2) 들어오는 숫자가 기존의 숫자보다 작을 경우 역시 pop해준다"
   ]
  },
  {
   "cell_type": "code",
   "execution_count": 19,
   "id": "ffc98489-0ae9-4378-907a-5bbd68cca950",
   "metadata": {},
   "outputs": [
    {
     "data": {
      "text/plain": [
       "1"
      ]
     },
     "execution_count": 19,
     "metadata": {},
     "output_type": "execute_result"
    }
   ],
   "source": [
    "(1, 3)[0]"
   ]
  },
  {
   "cell_type": "code",
   "execution_count": 21,
   "id": "af4464bc-bd90-448c-81d9-80e28fac8c30",
   "metadata": {},
   "outputs": [
    {
     "data": {
      "text/plain": [
       "False"
      ]
     },
     "execution_count": 21,
     "metadata": {},
     "output_type": "execute_result"
    }
   ],
   "source": [
    "bool([])"
   ]
  },
  {
   "cell_type": "code",
   "execution_count": 22,
   "id": "3d186ca3-0ffb-4411-a957-dc7dbcd4f27e",
   "metadata": {},
   "outputs": [
    {
     "name": "stdout",
     "output_type": "stream",
     "text": [
      "[1, 5, 2, 3, 6, 2, 3, 7, 3, 5, 2, 6]\n"
     ]
    }
   ],
   "source": [
    "print(A)"
   ]
  },
  {
   "cell_type": "code",
   "execution_count": 44,
   "id": "ebcb5e8c-079a-4e0c-9a77-ec534a0b1141",
   "metadata": {
    "scrolled": true
   },
   "outputs": [
    {
     "name": "stdout",
     "output_type": "stream",
     "text": [
      "1 1 1 2 2 2 2 2 3 3 2 2 "
     ]
    }
   ],
   "source": [
    "check_list = []\n",
    "\n",
    "for i in range(n):\n",
    "    if check_list :\n",
    "        # 기존 값보다 큰 값이 들어오면 넣어주고\n",
    "        if A[i] >= check_list[-1][1]:\n",
    "            check_list.append((i, A[i]))\n",
    "        # 작은 값이 들어오면 교체\n",
    "        else:\n",
    "            while check_list and check_list[-1][1] > A[i]:\n",
    "                check_list.pop()\n",
    "            check_list.append((i, A[i]))\n",
    "    # 초기 셋팅\n",
    "    else :\n",
    "        check_list.append((i, A[i]))\n",
    "    \n",
    "    # 인덱스가 윈도우를 벗어날 경우 pop\n",
    "    if check_list[0][0] <= i-l:\n",
    "        check_list.pop(0)\n",
    "\n",
    "    print(check_list[0][1], end=' ')\n"
   ]
  },
  {
   "cell_type": "markdown",
   "id": "6d730d0f-a4b3-4d83-982d-d7591e55a7b8",
   "metadata": {},
   "source": [
    "그래도 시간 초과.. deque를 써야 하나?\n",
    "- 위 코드에서 내부 if/else 구분은 while문의 check_list 조건으로 이미 구현이 되어 있으므로, 코드 간소화를 위해 제거"
   ]
  },
  {
   "cell_type": "code",
   "execution_count": 47,
   "id": "ab312ee3-b7a0-4c6e-a3a6-f0cd9fe1df02",
   "metadata": {},
   "outputs": [
    {
     "name": "stdout",
     "output_type": "stream",
     "text": [
      "1 1 1 2 2 2 2 2 3 3 2 2 "
     ]
    }
   ],
   "source": [
    "from collections import deque\n",
    "check_list = deque()\n",
    "\n",
    "for i in range(n):\n",
    "    while check_list and check_list[-1][1] > A[i]:\n",
    "        check_list.pop()\n",
    "    check_list.append((i, A[i]))\n",
    "\n",
    "    # 인덱스가 윈도우를 벗어날 경우 pop\n",
    "    if check_list[0][0] <= i-l:\n",
    "        check_list.popleft()\n",
    "\n",
    "    print(check_list[0][1], end=' ')\n"
   ]
  },
  {
   "cell_type": "markdown",
   "id": "101b18ae-2871-4e58-aa07-faa30779c2c3",
   "metadata": {},
   "source": [
    "드디어 통과! 첫 플레티넘 문제 풀이다.  \n",
    "앞뒤로 자료가 추가되거나 빠져나올 수 있는 형태의 자료형이 필요하다면 그냥 deque를 사용하자."
   ]
  },
  {
   "cell_type": "code",
   "execution_count": null,
   "id": "d247180b-5e94-4e94-b2f0-49a6566679a4",
   "metadata": {},
   "outputs": [],
   "source": []
  }
 ],
 "metadata": {
  "kernelspec": {
   "display_name": "Python 3 (ipykernel)",
   "language": "python",
   "name": "python3"
  },
  "language_info": {
   "codemirror_mode": {
    "name": "ipython",
    "version": 3
   },
   "file_extension": ".py",
   "mimetype": "text/x-python",
   "name": "python",
   "nbconvert_exporter": "python",
   "pygments_lexer": "ipython3",
   "version": "3.11.5"
  }
 },
 "nbformat": 4,
 "nbformat_minor": 5
}
