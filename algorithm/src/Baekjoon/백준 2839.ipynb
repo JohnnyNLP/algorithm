{
 "cells": [
  {
   "cell_type": "markdown",
   "id": "b15fe385-8790-4b71-b217-34506f1bbed7",
   "metadata": {},
   "source": [
    "https://www.acmicpc.net/problem/2839"
   ]
  },
  {
   "cell_type": "markdown",
   "id": "18aa4ffe-d935-491d-b545-ad84c3653e11",
   "metadata": {},
   "source": [
    "# 문제\r\n",
    "상근이는 요즘 설탕공장에서 설탕을 배달하고 있다. 상근이는 지금 사탕가게에 설탕을 정확하게 N킬로그램을 배달해야 한다. 설탕공장에서 만드는 설탕은 봉지에 담겨져 있다. 봉지는 3킬로그램 봉지와 5킬로그램 봉지가 있다.\r\n",
    "\r\n",
    "상근이는 귀찮기 때문에, 최대한 적은 봉지를 들고 가려고 한다. 예를 들어, 18킬로그램 설탕을 배달해야 할 때, 3킬로그램 봉지 6개를 가져가도 되지만, 5킬로그램 3개와 3킬로그램 1개를 배달하면, 더 적은 개수의 봉지를 배달할 수 있다.\r\n",
    "\r\n",
    "상근이가 설탕을 정확하게 N킬로그램 배달해야 할 때, 봉지 몇 개를 가져가면 되는지 그 수를 구하는 프로그램을 작성하# # 시오.\r\n",
    "\r\n",
    "입력\r\n",
    "첫째 줄에 N이 주어진다. (3 ≤ N ≤# #  5000)\r\n",
    "\r\n",
    "출력\r\n",
    "상근이가 배달하는 봉지의 최소 개수를 출력한다. 만약, 정확하게 N킬로그램을 만들 수 없다 -1을 출력한다."
   ]
  },
  {
   "cell_type": "code",
   "execution_count": 57,
   "id": "92a7ab22-d9ef-46b8-b272-30dd4a119570",
   "metadata": {},
   "outputs": [
    {
     "name": "stdin",
     "output_type": "stream",
     "text": [
      " 300\n"
     ]
    }
   ],
   "source": [
    "n = int(input())"
   ]
  },
  {
   "cell_type": "code",
   "execution_count": 58,
   "id": "2d085434-b19e-42ee-b5d1-e5ad83d1dbdb",
   "metadata": {},
   "outputs": [],
   "source": [
    "b = n//5\n",
    "a = n//3"
   ]
  },
  {
   "cell_type": "code",
   "execution_count": 59,
   "id": "fba5dbc8-31c0-4aa3-bf83-4fbb13cdbfad",
   "metadata": {},
   "outputs": [],
   "source": [
    "b_bag = [i for i in range(b, -1, -1)]\n",
    "a_bag = [i for i in range(a, -1, -1)]"
   ]
  },
  {
   "cell_type": "code",
   "execution_count": 70,
   "id": "9244fcab-bd50-44ba-99dc-dcf265c9348b",
   "metadata": {},
   "outputs": [
    {
     "name": "stdout",
     "output_type": "stream",
     "text": [
      "60\n"
     ]
    }
   ],
   "source": [
    "temp = 0\n",
    "for b in b_bag:\n",
    "    for a in a_bag:\n",
    "        if 5*b+3*a == n:\n",
    "            print(a+b)\n",
    "            temp = 1\n",
    "            break\n",
    "    if temp == 1:\n",
    "        break\n",
    "\n",
    "if temp == 0:\n",
    "    print(-1)"
   ]
  },
  {
   "cell_type": "code",
   "execution_count": null,
   "id": "1fa037e3-46a8-4b6d-ac8c-92b62010deaf",
   "metadata": {},
   "outputs": [],
   "source": [
    "n = int(input())\n",
    "\n",
    "b = n//5\n",
    "a = n//3\n",
    "\n",
    "b_bag = [i for i in range(b, -1, -1)]\n",
    "a_bag = [i for i in range(a, -1, -1)]\n",
    "\n",
    "temp = 0\n",
    "for b in b_bag:\n",
    "    for a in a_bag:\n",
    "        if 5*b+3*a == n:\n",
    "            print(a+b)\n",
    "            temp = 1\n",
    "            break\n",
    "    if temp == 1:\n",
    "        break\n",
    "\n",
    "if temp == 0:\n",
    "    print(-1)"
   ]
  },
  {
   "cell_type": "code",
   "execution_count": null,
   "id": "2af1818a-12d6-4841-9fcb-1a46279701ad",
   "metadata": {},
   "outputs": [],
   "source": []
  },
  {
   "cell_type": "code",
   "execution_count": null,
   "id": "38440e30-04be-4818-8717-7d5949e017c4",
   "metadata": {},
   "outputs": [],
   "source": []
  }
 ],
 "metadata": {
  "kernelspec": {
   "display_name": "Python 3 (ipykernel)",
   "language": "python",
   "name": "python3"
  },
  "language_info": {
   "codemirror_mode": {
    "name": "ipython",
    "version": 3
   },
   "file_extension": ".py",
   "mimetype": "text/x-python",
   "name": "python",
   "nbconvert_exporter": "python",
   "pygments_lexer": "ipython3",
   "version": "3.11.5"
  }
 },
 "nbformat": 4,
 "nbformat_minor": 5
}
