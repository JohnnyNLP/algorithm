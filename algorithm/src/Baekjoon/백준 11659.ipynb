{
 "cells": [
  {
   "cell_type": "markdown",
   "id": "273613ab-4b0b-4e28-b1a5-073be5fcafe1",
   "metadata": {},
   "source": [
    "https://www.acmicpc.net/problem/11659"
   ]
  },
  {
   "cell_type": "markdown",
   "id": "60f19b50-9f4d-42e2-b4c0-75a03068b16c",
   "metadata": {},
   "source": [
    "## 문제\r\n",
    "수 N개가 주어졌을 때, i번째 수부터 j번째 수까지 합을 구하는 프로그램을 작성하시오.\r",
    "## \n",
    "\r\n",
    "입력\r\n",
    "첫째 줄에 수의 개수 N과 합을 구해야 하는 횟수 M이 주어진다. 둘째 줄에는 N개의 수가 주어진다. 수는 1,000보다 작거나 같은 자연수이다. 셋째 줄부터 M개의 줄에는 합을 구해야 하는 구간 i와 j가 주어진## 다.\r\n",
    "\r\n",
    "출력\r\n",
    "총 M개의 줄에 입력으로 주어진 i번째 수부터 j번째 수까지 합을 출력한다."
   ]
  },
  {
   "cell_type": "code",
   "execution_count": 1,
   "id": "6d62a06f-6186-4f39-afed-0d3f532d47f7",
   "metadata": {},
   "outputs": [
    {
     "name": "stdin",
     "output_type": "stream",
     "text": [
      " 5 3\n",
      " 5 4 3 2 1\n",
      " 1 3\n"
     ]
    },
    {
     "name": "stdout",
     "output_type": "stream",
     "text": [
      "12\n"
     ]
    },
    {
     "name": "stdin",
     "output_type": "stream",
     "text": [
      " 2 4\n"
     ]
    },
    {
     "name": "stdout",
     "output_type": "stream",
     "text": [
      "9\n"
     ]
    },
    {
     "name": "stdin",
     "output_type": "stream",
     "text": [
      " 5 5\n"
     ]
    },
    {
     "name": "stdout",
     "output_type": "stream",
     "text": [
      "1\n"
     ]
    }
   ],
   "source": [
    "num_data, num_query = map(int, input().split())\n",
    "data = list(map(int, input().split()))\n",
    "for _ in range(num_query):\n",
    "    q_from, q_to = map(int, input().split())\n",
    "    print(sum(data[:q_to])-sum(data[:q_from-1]))"
   ]
  },
  {
   "cell_type": "code",
   "execution_count": 6,
   "id": "5386f6ec-af9a-4549-b17c-92dc30c49d0a",
   "metadata": {},
   "outputs": [
    {
     "data": {
      "text/plain": [
       "[5, 4, 3, 2, 1]"
      ]
     },
     "execution_count": 6,
     "metadata": {},
     "output_type": "execute_result"
    }
   ],
   "source": [
    "data"
   ]
  },
  {
   "cell_type": "markdown",
   "id": "5f8254b3-14b3-485d-b965-3d7ac198fe45",
   "metadata": {},
   "source": [
    "위 방식대로 할 경우 시간 초과가 나온다. (시간 복잡도 : num_query * n)"
   ]
  },
  {
   "cell_type": "code",
   "execution_count": 2,
   "id": "3015c1e6-ec27-408d-9ef2-65d7dbde521f",
   "metadata": {},
   "outputs": [
    {
     "name": "stdin",
     "output_type": "stream",
     "text": [
      " 5 3\n",
      " 5 4 3 2 1\n"
     ]
    },
    {
     "name": "stdout",
     "output_type": "stream",
     "text": [
      "[0]\n",
      "[0, 5]\n",
      "[0, 5, 9]\n",
      "[0, 5, 9, 12]\n",
      "[0, 5, 9, 12, 14]\n",
      "[0, 5, 9, 12, 14, 15]\n"
     ]
    },
    {
     "name": "stdin",
     "output_type": "stream",
     "text": [
      " 1 3\n"
     ]
    },
    {
     "name": "stdout",
     "output_type": "stream",
     "text": [
      "12\n"
     ]
    },
    {
     "name": "stdin",
     "output_type": "stream",
     "text": [
      " 2 4\n"
     ]
    },
    {
     "name": "stdout",
     "output_type": "stream",
     "text": [
      "9\n"
     ]
    },
    {
     "name": "stdin",
     "output_type": "stream",
     "text": [
      "  5 5\n"
     ]
    },
    {
     "name": "stdout",
     "output_type": "stream",
     "text": [
      "1\n"
     ]
    }
   ],
   "source": [
    "num_data, num_query = map(int, input().split())\n",
    "data = list(map(int, input().split()))\n",
    "\n",
    "sum_list = [0]\n",
    "print(sum_list)\n",
    "for i in range(0, num_data):\n",
    "    sum_list.append(sum_list[i]+data[i])\n",
    "    print(sum_list)\n",
    "\n",
    "for _ in range(num_query):\n",
    "    q_from, q_to = map(int, input().split())\n",
    "    print(sum_list[q_to]-sum_list[q_from-1])"
   ]
  },
  {
   "cell_type": "markdown",
   "id": "edfa9288-d281-4213-bdcc-6b861f036499",
   "metadata": {},
   "source": [
    "위 코드도 시간 초과가 나온다."
   ]
  },
  {
   "cell_type": "code",
   "execution_count": 3,
   "id": "22065f7f-3b69-4e06-89e0-e746a7ae22d8",
   "metadata": {},
   "outputs": [
    {
     "ename": "ValueError",
     "evalue": "not enough values to unpack (expected 2, got 0)",
     "output_type": "error",
     "traceback": [
      "\u001b[1;31m---------------------------------------------------------------------------\u001b[0m",
      "\u001b[1;31mValueError\u001b[0m                                Traceback (most recent call last)",
      "Cell \u001b[1;32mIn[3], line 3\u001b[0m\n\u001b[0;32m      1\u001b[0m \u001b[38;5;28;01mimport\u001b[39;00m \u001b[38;5;21;01msys\u001b[39;00m\n\u001b[0;32m      2\u001b[0m \u001b[38;5;28minput\u001b[39m \u001b[38;5;241m=\u001b[39m sys\u001b[38;5;241m.\u001b[39mstdin\u001b[38;5;241m.\u001b[39mreadline\n\u001b[1;32m----> 3\u001b[0m num_data, num_query \u001b[38;5;241m=\u001b[39m \u001b[38;5;28mmap\u001b[39m(\u001b[38;5;28mint\u001b[39m, \u001b[38;5;28minput\u001b[39m()\u001b[38;5;241m.\u001b[39msplit())\n\u001b[0;32m      4\u001b[0m data \u001b[38;5;241m=\u001b[39m \u001b[38;5;28mlist\u001b[39m(\u001b[38;5;28mmap\u001b[39m(\u001b[38;5;28mint\u001b[39m, \u001b[38;5;28minput\u001b[39m()\u001b[38;5;241m.\u001b[39msplit()))\n\u001b[0;32m      6\u001b[0m sum_list \u001b[38;5;241m=\u001b[39m [\u001b[38;5;241m0\u001b[39m]\n",
      "\u001b[1;31mValueError\u001b[0m: not enough values to unpack (expected 2, got 0)"
     ]
    }
   ],
   "source": [
    "import sys\n",
    "input = sys.stdin.readline\n",
    "num_data, num_query = map(int, input().split())\n",
    "data = list(map(int, input().split()))\n",
    "\n",
    "sum_list = [0]\n",
    "temp = 0\n",
    "for num in data:\n",
    "    temp = temp + num\n",
    "    sum_list.append(temp)\n",
    "    \n",
    "for _ in range(num_query):\n",
    "    q_from, q_to = map(int, input().split())\n",
    "    print(sum_list[q_to]-sum_list[q_from-1])"
   ]
  },
  {
   "cell_type": "markdown",
   "id": "496bcd6f-f6b2-4ceb-b502-e5923ef7e553",
   "metadata": {},
   "source": [
    "문제는 input을 프롬프트로 입력 받아서 그런 것이었다.\n",
    "sys.stdin.readline으로 받으면 조금 더 빠르다고 한다."
   ]
  }
 ],
 "metadata": {
  "kernelspec": {
   "display_name": "Python 3 (ipykernel)",
   "language": "python",
   "name": "python3"
  },
  "language_info": {
   "codemirror_mode": {
    "name": "ipython",
    "version": 3
   },
   "file_extension": ".py",
   "mimetype": "text/x-python",
   "name": "python",
   "nbconvert_exporter": "python",
   "pygments_lexer": "ipython3",
   "version": "3.11.5"
  }
 },
 "nbformat": 4,
 "nbformat_minor": 5
}
