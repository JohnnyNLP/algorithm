{
 "cells": [
  {
   "cell_type": "markdown",
   "id": "82978f22-9ab5-4bd1-bde1-692eaa522889",
   "metadata": {},
   "source": [
    "https://www.acmicpc.net/problem/12891"
   ]
  },
  {
   "cell_type": "markdown",
   "id": "0d0b876e-4629-49b8-b89a-d59317b532b1",
   "metadata": {},
   "source": [
    "## 문제\r\n",
    "평소에 문자열을 가지고 노는 것을 좋아하는 민호는 DNA 문자열을 알게 되었다. DNA 문자열은 모든 문자열에 등장하는 문자가 {‘A’, ‘C’, ‘G’, ‘T’} 인 문자열을 말한다. 예를 들어 “ACKA”는 DNA 문자열이 아니지만 “ACCA”는 DNA 문자열이다. 이런 신비한 문자열에 완전히 매료된 민호는 임의의 DNA 문자열을 만들고 만들어진 DNA 문자열의 부분문자열을 비밀번호로 사용하기로 마음먹었다.\r\n",
    "\r\n",
    "하지만 민호는 이러한 방법에는 큰 문제가 있다는 것을 발견했다. 임의의 DNA 문자열의 부분문자열을 뽑았을 때 “AAAA”와 같이 보안에 취약한 비밀번호가 만들어 질 수 있기 때문이다. 그래서 민호는 부분문자열에서 등장하는 문자의 개수가 특정 개수 이상이여야 비밀번호로 사용할 수 있다는 규칙을 만들었다.\r\n",
    "\r\n",
    "임의의 DNA문자열이 “AAACCTGCCAA” 이고 민호가 뽑을 부분문자열의 길이를 4라고 하자. 그리고 부분문자열에 ‘A’ 는 1개 이상, ‘C’는 1개 이상, ‘G’는 1개 이상, ‘T’는 0개 이상이 등장해야 비밀번호로 사용할 수 있다고 하자. 이때 “ACCT” 는 ‘G’ 가 1 개 이상 등장해야 한다는 조건을 만족하지 못해 비밀번호로 사용하지 못한다. 하지만 “GCCA” 은 모든 조건을 만족하기 때문에 비밀번호로 사용할 수 있다.\r\n",
    "\r\n",
    "민호가 만든 임의의 DNA 문자열과 비밀번호로 사용할 부분분자열의 길이, 그리고 {‘A’, ‘C’, ‘G’, ‘T’} 가 각각 몇번 이상 등장해야 비밀번호로 사용할 수 있는지 순서대로 주어졌을 때 민호가 만들 수 있는 비밀번호의 종류의 수를 구하는 프로그램을 작성하자. 단 부분문자열이 등장하는 위치가 다르다면 부분문자열이 같다고 하더라도 다른 문자열로 ## 취급한다.\r\n",
    "\r\n",
    "입력\r\n",
    "첫 번째 줄에 민호가 임의로 만든 DNA 문자열 길이 |S|와 비밀번호로 사용할 부분문자열의 길이 |P| 가 주어진다. (1 ≤ |P| ≤ |S| ≤ 1,000,000)\r\n",
    "\r\n",
    "두번 째 줄에는 민호가 임의로 만든 DNA 문자열이 주어진다.\r\n",
    "\r\n",
    "세번 째 줄에는 부분문자열에 포함되어야 할 {‘A’, ‘C’, ‘G’, ‘T’} 의 최소 개수가 공백을 구분으로 주어진다. 각각의 수는 |S| 보다 작거나 같은 음이 아닌 정수이며 총 합은 |S| 보다 작## 거나 같음이 보장된다.\r\n",
    "\r\n",
    "출력\r\n",
    "첫 번째 줄에 민호가 만들 수 있는 비밀번호의 종류의 수를 출력해라."
   ]
  },
  {
   "cell_type": "code",
   "execution_count": 10,
   "id": "0d867dda-954f-4a1a-8a3a-30f67e44c3b3",
   "metadata": {},
   "outputs": [
    {
     "name": "stdin",
     "output_type": "stream",
     "text": [
      " 4 2\n",
      " GATA\n",
      " 1 0 0 1\n"
     ]
    }
   ],
   "source": [
    "s, p = map(int, input().split())\n",
    "dna = input()\n",
    "num_a, num_c, num_g, num_t = map(int, input().split())"
   ]
  },
  {
   "cell_type": "code",
   "execution_count": 20,
   "id": "b48971ad-74d1-4d4b-8f09-ea5999c5eb12",
   "metadata": {},
   "outputs": [],
   "source": [
    "left_index = 0\n",
    "right_index = p\n",
    "count = 0"
   ]
  },
  {
   "cell_type": "code",
   "execution_count": 21,
   "id": "2090b5d5-239a-4d8a-b1e7-642c96be69a1",
   "metadata": {},
   "outputs": [
    {
     "name": "stdout",
     "output_type": "stream",
     "text": [
      "1 0 1 0\n",
      "1 0 0 1\n",
      "1 0 0 1\n"
     ]
    }
   ],
   "source": [
    "while right_index <= s:\n",
    "    check_dna = dna[left_index:right_index]\n",
    "    \n",
    "    # 체크할 문자열에서 각 알파벳 숫자 체크\n",
    "    check_a, check_c, check_g, check_t = 0, 0, 0, 0\n",
    "    for char in check_dna:\n",
    "        if char == 'A':\n",
    "            check_a += 1\n",
    "        elif char == 'C':\n",
    "            check_c += 1\n",
    "        elif char == 'G':\n",
    "            check_g += 1\n",
    "        else:\n",
    "            check_t += 1\n",
    "\n",
    "    # 만약 알파벳 숫자가 조건을 만족하면 카운트 증가\n",
    "    if check_a >= num_a and check_c >= num_c and check_g >= num_g and check_t >= num_t:\n",
    "        count += 1\n",
    "    left_index += 1\n",
    "    right_index += 1"
   ]
  },
  {
   "cell_type": "markdown",
   "id": "839bf140-ef7e-4f7e-b5a0-55805f58226c",
   "metadata": {},
   "source": [
    "시간 초과.  \n",
    "아무래도 각 구간 내에 알파벳 숫자를 바로 확인할 수 있는 리스트를 미리 생성해두는 것이 정답인 것 같다."
   ]
  },
  {
   "cell_type": "code",
   "execution_count": 23,
   "id": "663f300c-305c-4b1f-816b-920b1bf6ce51",
   "metadata": {},
   "outputs": [
    {
     "data": {
      "text/plain": [
       "[1, 0, 0, 0, 0, 1, 0, 0]"
      ]
     },
     "execution_count": 23,
     "metadata": {},
     "output_type": "execute_result"
    }
   ],
   "source": [
    "[1, 0, 0, 0] + [0, 1, 0, 0]"
   ]
  },
  {
   "cell_type": "code",
   "execution_count": 27,
   "id": "30454013-3fe6-445d-9167-6448106d016d",
   "metadata": {},
   "outputs": [],
   "source": [
    "import numpy as np\n",
    "\n",
    "a = np.array([1, 0, 0, 0])\n",
    "b = np.array([0, 1, 0, 0])"
   ]
  },
  {
   "cell_type": "code",
   "execution_count": 29,
   "id": "3462e21a-1663-4339-82a1-ff49ab637ac8",
   "metadata": {},
   "outputs": [
    {
     "data": {
      "text/plain": [
       "array([1, 1, 0, 0])"
      ]
     },
     "execution_count": 29,
     "metadata": {},
     "output_type": "execute_result"
    }
   ],
   "source": [
    "a+b"
   ]
  },
  {
   "cell_type": "code",
   "execution_count": 30,
   "id": "9ff226bf-7e25-4fc5-8569-8bee7d5f746a",
   "metadata": {},
   "outputs": [
    {
     "data": {
      "text/plain": [
       "1"
      ]
     },
     "execution_count": 30,
     "metadata": {},
     "output_type": "execute_result"
    }
   ],
   "source": [
    "a[0]"
   ]
  },
  {
   "cell_type": "code",
   "execution_count": 37,
   "id": "e61545fb-3ec7-47ae-bd98-c75787f8cd0d",
   "metadata": {},
   "outputs": [],
   "source": [
    "dna_converted = [0]*s\n",
    "\n",
    "for i in range(s):\n",
    "    if dna[i] == 'A':\n",
    "        dna_converted[i] = np.array([1, 0, 0, 0])\n",
    "    elif dna[i] == 'C':\n",
    "        dna_converted[i] = np.array([0, 1, 0, 0])\n",
    "    elif dna[i] == 'G':\n",
    "        dna_converted[i] = np.array([0, 0, 1, 0])\n",
    "    else:\n",
    "        dna_converted[i] = np.array([0, 0, 0, 1])"
   ]
  },
  {
   "cell_type": "code",
   "execution_count": 38,
   "id": "1fd96568-81fa-42f6-a1c9-572b25a4a54d",
   "metadata": {},
   "outputs": [
    {
     "data": {
      "text/plain": [
       "[array([0, 0, 1, 0]),\n",
       " array([1, 0, 0, 0]),\n",
       " array([0, 0, 0, 1]),\n",
       " array([1, 0, 0, 0])]"
      ]
     },
     "execution_count": 38,
     "metadata": {},
     "output_type": "execute_result"
    }
   ],
   "source": [
    "dna_converted"
   ]
  },
  {
   "cell_type": "code",
   "execution_count": 39,
   "id": "57474ee0-1cc0-4f9a-b942-d7bf7e2cb317",
   "metadata": {},
   "outputs": [],
   "source": [
    "check_dna = dna_converted[0:2]"
   ]
  },
  {
   "cell_type": "code",
   "execution_count": 43,
   "id": "7050d9d0-b44c-4cbf-a100-e1da6f55a8b8",
   "metadata": {},
   "outputs": [
    {
     "data": {
      "text/plain": [
       "array([1, 0, 1, 1])"
      ]
     },
     "execution_count": 43,
     "metadata": {},
     "output_type": "execute_result"
    }
   ],
   "source": [
    "sum(dna_converted[0:3])"
   ]
  },
  {
   "cell_type": "code",
   "execution_count": 44,
   "id": "b8c713a6-c44d-4de9-8da2-380bf7f277fa",
   "metadata": {},
   "outputs": [],
   "source": [
    "left_index = 0\n",
    "right_index = p\n",
    "count = 0\n",
    "condition = np.array([num_a, num_c, num_g, num_t])"
   ]
  },
  {
   "cell_type": "code",
   "execution_count": 46,
   "id": "ca61ba10-9b11-4409-adf1-bd97e46af6f3",
   "metadata": {},
   "outputs": [],
   "source": [
    "while right_index <= s:\n",
    "    check_dna = sum(dna_converted[left_index:right_index])\n",
    "    \n",
    "    # 만약 알파벳 숫자가 조건을 만족하면 카운트 증가\n",
    "    if check_dna[0] >= condition[0] and check_dna[1] >= condition[1] and check_dna[2] >= condition[2] and check_dna[3] >= condition[3]:\n",
    "        count += 1\n",
    "        \n",
    "    left_index += 1\n",
    "    right_index += 1"
   ]
  },
  {
   "cell_type": "code",
   "execution_count": 48,
   "id": "a512baf7-bc03-4b6d-a5e3-654b893b0aa7",
   "metadata": {},
   "outputs": [
    {
     "data": {
      "text/plain": [
       "2"
      ]
     },
     "execution_count": 48,
     "metadata": {},
     "output_type": "execute_result"
    }
   ],
   "source": [
    "count"
   ]
  },
  {
   "cell_type": "code",
   "execution_count": 49,
   "id": "d4aa0bbb-924d-49e3-8946-2bf811025559",
   "metadata": {},
   "outputs": [
    {
     "name": "stdin",
     "output_type": "stream",
     "text": [
      " 4 2\n",
      " GATA\n",
      " 1 0 0 1\n"
     ]
    },
    {
     "name": "stdout",
     "output_type": "stream",
     "text": [
      "2\n"
     ]
    }
   ],
   "source": [
    "import numpy as np\n",
    "\n",
    "s, p = map(int, input().split())\n",
    "dna = input()\n",
    "num_a, num_c, num_g, num_t = map(int, input().split())\n",
    "\n",
    "left_index = 0\n",
    "right_index = p\n",
    "count = 0\n",
    "condition = np.array([num_a, num_c, num_g, num_t])\n",
    "\n",
    "dna_converted = [0]*s\n",
    "\n",
    "# 각 알파벳 분포 정보를 담고 있는 넘파이 배열 생성\n",
    "for i in range(s):\n",
    "    if dna[i] == 'A':\n",
    "        dna_converted[i] = np.array([1, 0, 0, 0])\n",
    "    elif dna[i] == 'C':\n",
    "        dna_converted[i] = np.array([0, 1, 0, 0])\n",
    "    elif dna[i] == 'G':\n",
    "        dna_converted[i] = np.array([0, 0, 1, 0])\n",
    "    else:\n",
    "        dna_converted[i] = np.array([0, 0, 0, 1])\n",
    "\n",
    "while right_index <= s:\n",
    "    check_dna = sum(dna_converted[left_index:right_index])\n",
    "    \n",
    "    # 만약 알파벳 숫자가 조건을 만족하면 카운트 증가\n",
    "    if check_dna[0] >= condition[0] and check_dna[1] >= condition[1] and check_dna[2] >= condition[2] and check_dna[3] >= condition[3]:\n",
    "        count += 1\n",
    "        \n",
    "    left_index += 1\n",
    "    right_index += 1\n",
    "    \n",
    "print(count)"
   ]
  },
  {
   "cell_type": "markdown",
   "id": "1ae3c5de-1b31-4b2e-8432-4b6e81e9da29",
   "metadata": {},
   "source": [
    "문제가 생겼다. 백준 사이트에서 numpy library를 제공하지 않는다..."
   ]
  },
  {
   "cell_type": "code",
   "execution_count": null,
   "id": "a561897d-3828-48bd-a30c-b4c7e4b44ef8",
   "metadata": {},
   "outputs": [],
   "source": [
    "left_index = 0\n",
    "right_index = p\n",
    "count = 0"
   ]
  },
  {
   "cell_type": "code",
   "execution_count": 51,
   "id": "0d8b4d47-a910-429d-8d87-00aa8d579ff2",
   "metadata": {},
   "outputs": [],
   "source": [
    "while right_index <= s:\n",
    "    check_dna = dna[left_index:right_index]\n",
    "    \n",
    "  # 만약 알파벳 숫자가 조건을 만족하면 카운트 증가\n",
    "    if check_dna.count('A') >= num_a :\n",
    "        if check_dna.count('C') >= num_c :\n",
    "            if check_dna.count('G') >= num_g :\n",
    "                if check_dna.count('T') >= num_t :\n",
    "                    count ++ 1\n",
    "            else: pass\n",
    "        else: pass\n",
    "    else: pass\n",
    "\n",
    "    left_index += 1\n",
    "    right_index += 1"
   ]
  },
  {
   "cell_type": "code",
   "execution_count": 52,
   "id": "84130a52-239b-4647-94e4-c3a62a5f752b",
   "metadata": {},
   "outputs": [
    {
     "data": {
      "text/plain": [
       "2"
      ]
     },
     "execution_count": 52,
     "metadata": {},
     "output_type": "execute_result"
    }
   ],
   "source": [
    "count"
   ]
  },
  {
   "cell_type": "markdown",
   "id": "e462f715-c926-4ff9-8b1c-432b74aefc57",
   "metadata": {},
   "source": [
    "역시 시간 초과... 부분합처럼 특정 구간 설정 시 해당 카운트를 알 수 있도록 조정해보자."
   ]
  },
  {
   "cell_type": "code",
   "execution_count": 53,
   "id": "687c7752-d1ce-452d-8f8c-ae13432577fb",
   "metadata": {},
   "outputs": [
    {
     "data": {
      "text/plain": [
       "'GATA'"
      ]
     },
     "execution_count": 53,
     "metadata": {},
     "output_type": "execute_result"
    }
   ],
   "source": [
    "dna"
   ]
  },
  {
   "cell_type": "code",
   "execution_count": 64,
   "id": "49281dd4-d422-4a6e-8e8e-412a9333676a",
   "metadata": {},
   "outputs": [],
   "source": [
    "dna_converted = [0]*s\n",
    "\n",
    "for i in range(s):\n",
    "    if dna[i] == 'A':\n",
    "        dna_converted[i] = 2\n",
    "    elif dna[i] == 'C':\n",
    "        dna_converted[i] = 3\n",
    "    elif dna[i] == 'G':\n",
    "        dna_converted[i] = 5\n",
    "    else:\n",
    "        dna_converted[i] = 7\n",
    "\n",
    "condition = (2**num_a)*(3**num_c)*(5**num_g)*(7**num_t)"
   ]
  },
  {
   "cell_type": "code",
   "execution_count": 65,
   "id": "a4d4a22e-3c6d-42b5-8688-ca79c9d6289a",
   "metadata": {},
   "outputs": [
    {
     "data": {
      "text/plain": [
       "[5, 2, 7, 2]"
      ]
     },
     "execution_count": 65,
     "metadata": {},
     "output_type": "execute_result"
    }
   ],
   "source": [
    "dna_converted"
   ]
  },
  {
   "cell_type": "code",
   "execution_count": 66,
   "id": "3b6793a3-e404-431b-8718-9acfd0faf20a",
   "metadata": {},
   "outputs": [
    {
     "data": {
      "text/plain": [
       "14"
      ]
     },
     "execution_count": 66,
     "metadata": {},
     "output_type": "execute_result"
    }
   ],
   "source": [
    "condition"
   ]
  },
  {
   "cell_type": "code",
   "execution_count": 67,
   "id": "8c6978f1-6311-449f-90fe-d91acfb05fa5",
   "metadata": {},
   "outputs": [],
   "source": [
    "import math\n",
    "\n",
    "while right_index <= s:\n",
    "    check_num = math.prod(dna[left_index:right_index])\n",
    "    \n",
    "    if check_num % condition == 0:\n",
    "        count += 1\n",
    "        \n",
    "    left_index += 1\n",
    "    right_index += 1"
   ]
  },
  {
   "cell_type": "code",
   "execution_count": 68,
   "id": "606d1e66-d35d-4628-b25d-940ed248989f",
   "metadata": {},
   "outputs": [
    {
     "data": {
      "text/plain": [
       "2"
      ]
     },
     "execution_count": 68,
     "metadata": {},
     "output_type": "execute_result"
    }
   ],
   "source": [
    "count"
   ]
  },
  {
   "cell_type": "code",
   "execution_count": 71,
   "id": "6a1c7f91-1924-41ce-99d5-31f7b42ce72a",
   "metadata": {},
   "outputs": [
    {
     "name": "stdin",
     "output_type": "stream",
     "text": [
      " 4 2\n",
      " GATA\n",
      " 1 0 0 1\n"
     ]
    }
   ],
   "source": [
    "import math\n",
    "\n",
    "s, p = map(int, input().split())\n",
    "dna = input()\n",
    "num_a, num_c, num_g, num_t = map(int, input().split())\n",
    "\n",
    "left_index = 0\n",
    "right_index = p\n",
    "count = 0\n",
    "\n",
    "dna_converted = [0]*s\n",
    "\n",
    "# 문자열을 소수로 변환\n",
    "for i in range(s):\n",
    "    if dna[i] == 'A':\n",
    "        dna_converted[i] = 2\n",
    "    elif dna[i] == 'C':\n",
    "        dna_converted[i] = 3\n",
    "    elif dna[i] == 'G':\n",
    "        dna_converted[i] = 5\n",
    "    else:\n",
    "        dna_converted[i] = 7\n",
    "\n",
    "# 조건식은 소수의 곱이므로, 조건 충족 시 나눈 몫이 0이 된다.\n",
    "condition = (2**num_a)*(3**num_c)*(5**num_g)*(7**num_t)\n",
    "\n",
    "# 비교적 간단해진 루프문\n",
    "while right_index <= s:\n",
    "    check_num = math.prod(dna_converted[left_index:right_index])\n",
    "    \n",
    "    if check_num % condition == 0:\n",
    "        count += 1\n",
    "        \n",
    "    left_index += 1\n",
    "    right_index += 1\n",
    "\n",
    "print(count)"
   ]
  },
  {
   "cell_type": "markdown",
   "id": "9848a852-e041-4cd0-85e0-523604090178",
   "metadata": {},
   "source": [
    "결과는 시간 초과..  \n",
    "다시 처음 접근 방식으로 돌아가서, 구간이 설정되었을 때마다 모든 문자열을 다 탐색하는 게 아니라, 왼쪽 문자열을 빼고 오른쪽 문자열을 추가하는 식으로 접근하면 연산 부하를 많이 줄일 수 있다."
   ]
  },
  {
   "cell_type": "code",
   "execution_count": null,
   "id": "17f0faea-5893-45bd-ad0e-8950a41a13a6",
   "metadata": {},
   "outputs": [],
   "source": [
    "left_index = 0\n",
    "right_index = p\n",
    "count = 0"
   ]
  },
  {
   "cell_type": "code",
   "execution_count": 76,
   "id": "69791758-0ee0-488d-819d-dd1758b8eb83",
   "metadata": {},
   "outputs": [],
   "source": [
    "def check(left_index, right_index, dna, check_list):\n",
    "\n",
    "    # 초기 호출 시 작업\n",
    "    if not check_list :\n",
    "        check_a, check_c, check_g, check_t = 0, 0, 0, 0\n",
    "        for char in dna[left_index:right_index]:\n",
    "            if char == 'A':\n",
    "                check_a += 1\n",
    "            elif char == 'C':\n",
    "                check_c += 1\n",
    "            elif char == 'G':\n",
    "                check_g += 1\n",
    "            else:\n",
    "                check_t += 1\n",
    "        return [check_a, check_c, check_g, check_t]\n",
    "\n",
    "    # 재호출 시 작업 : 가장 왼쪽 숫자를 버리고, 가장 오른쪽 숫자를 추가\n",
    "    else :\n",
    "        if dna[left_index-1] == 'A':\n",
    "            check_list[0] -= 1\n",
    "        elif dna[left_index-1] == 'C':\n",
    "            check_list[1] -= 1\n",
    "        elif dna[left_index-1] == 'G':\n",
    "            check_list[2] -= 1\n",
    "        else:\n",
    "            check_list[3] -= 1  \n",
    "\n",
    "        if dna[right_index-1] == 'A':\n",
    "            check_list[0] -= 1\n",
    "        elif dna[right_index-1] == 'C':\n",
    "            check_list[1] -= 1\n",
    "        elif dna[right_index-1] == 'G':\n",
    "            check_list[2] -= 1\n",
    "        else:\n",
    "            check_list[3] -= 1  \n",
    "\n",
    "        return checklist"
   ]
  },
  {
   "cell_type": "code",
   "execution_count": 78,
   "id": "5a2c4180-4c76-4fb9-920b-f2c18b227c93",
   "metadata": {},
   "outputs": [],
   "source": [
    "def count_plus(check_list, condition, count):\n",
    "    if check_list[0] >= condition[0]:\n",
    "        if check_list[1] >= condition[1]:\n",
    "            if check_list[2] >= condition[2]:\n",
    "                if check_list[3] >= condition[3]:\n",
    "                    count += 1\n",
    "                    return count\n",
    "                else : return count\n",
    "            else : return count\n",
    "        else : return count\n",
    "    else : return count"
   ]
  },
  {
   "cell_type": "code",
   "execution_count": 77,
   "id": "d740659d-d92b-416a-8a65-31071bd9a370",
   "metadata": {},
   "outputs": [],
   "source": [
    "condition = [num_a, num_c, num_g, num_t]"
   ]
  },
  {
   "cell_type": "code",
   "execution_count": 79,
   "id": "1ec76f93-fa9a-4333-97fd-0ed93c6acdf2",
   "metadata": {},
   "outputs": [],
   "source": [
    "check_list = []    \n",
    "\n",
    "while right_index <= s:\n",
    "    # 체크할 문자열에서 각 알파벳 숫자 체크\n",
    "    check_list = check(left_index, right_index, dna, check_list)\n",
    "\n",
    "    # 만약 알파벳 숫자가 조건을 만족하면 카운트 증가\n",
    "    count = count_plus(check_list, condition, count)\n",
    "    left_index += 1\n",
    "    right_index += 1"
   ]
  },
  {
   "cell_type": "code",
   "execution_count": 80,
   "id": "2bf77c2f-29f7-4ac0-9644-05cfa2d2056c",
   "metadata": {},
   "outputs": [
    {
     "data": {
      "text/plain": [
       "2"
      ]
     },
     "execution_count": 80,
     "metadata": {},
     "output_type": "execute_result"
    }
   ],
   "source": [
    "count"
   ]
  },
  {
   "cell_type": "code",
   "execution_count": 84,
   "id": "5908f9fa-6382-42ef-8ffc-38b48af3b1cf",
   "metadata": {},
   "outputs": [
    {
     "name": "stdin",
     "output_type": "stream",
     "text": [
      " 4 2\n",
      " GATA\n",
      " 1 0 0 1\n"
     ]
    },
    {
     "name": "stdout",
     "output_type": "stream",
     "text": [
      "[1, 0, 1, 0] [1, 0, 0, 1]\n",
      "[1, 0, 0, 1] [1, 0, 0, 1]\n",
      "[1, 0, 0, 1] [1, 0, 0, 1]\n",
      "2\n"
     ]
    }
   ],
   "source": [
    "def check(left_index, right_index, dna, check_list):\n",
    "\n",
    "    # 초기 호출 시 작업\n",
    "    if not check_list :\n",
    "        check_a, check_c, check_g, check_t = 0, 0, 0, 0\n",
    "        for char in dna[left_index:right_index]:\n",
    "            if char == 'A':\n",
    "                check_a += 1\n",
    "            elif char == 'C':\n",
    "                check_c += 1\n",
    "            elif char == 'G':\n",
    "                check_g += 1\n",
    "            else:\n",
    "                check_t += 1\n",
    "        return [check_a, check_c, check_g, check_t]\n",
    "\n",
    "    # 재호출 시 작업 : 가장 왼쪽 숫자를 버리고, 가장 오른쪽 숫자를 추가\n",
    "    else :\n",
    "        if dna[left_index-1] == 'A':\n",
    "            check_list[0] -= 1\n",
    "        elif dna[left_index-1] == 'C':\n",
    "            check_list[1] -= 1\n",
    "        elif dna[left_index-1] == 'G':\n",
    "            check_list[2] -= 1\n",
    "        else:\n",
    "            check_list[3] -= 1  \n",
    "\n",
    "        if dna[right_index-1] == 'A':\n",
    "            check_list[0] += 1\n",
    "        elif dna[right_index-1] == 'C':\n",
    "            check_list[1] += 1\n",
    "        elif dna[right_index-1] == 'G':\n",
    "            check_list[2] += 1\n",
    "        else:\n",
    "            check_list[3] += 1  \n",
    "\n",
    "        return check_list\n",
    "        \n",
    "def count_plus(check_list, condition, count):\n",
    "    if check_list[0] >= condition[0]:\n",
    "        if check_list[1] >= condition[1]:\n",
    "            if check_list[2] >= condition[2]:\n",
    "                if check_list[3] >= condition[3]:\n",
    "                    count += 1\n",
    "                    return count\n",
    "                else : return count\n",
    "            else : return count\n",
    "        else : return count\n",
    "    else : return count\n",
    "    \n",
    "s, p = map(int, input().split())\n",
    "dna = input()\n",
    "condition = list(map(int, input().split()))\n",
    "check_list = []\n",
    "\n",
    "left_index = 0\n",
    "right_index = p\n",
    "count = 0        \n",
    "        \n",
    "while right_index <= s:\n",
    "    # 체크할 문자열에서 각 알파벳 숫자 체크\n",
    "    check_list = check(left_index, right_index, dna, check_list)\n",
    "    # print(check_list, condition)\n",
    "\n",
    "    # 만약 알파벳 숫자가 조건을 만족하면 카운트 증가\n",
    "    count = count_plus(check_list, condition, count)\n",
    "    left_index += 1\n",
    "    right_index += 1\n",
    "     \n",
    "print(count)        "
   ]
  },
  {
   "cell_type": "markdown",
   "id": "d3bd44ab-8fab-4ede-8ef0-f7153b174107",
   "metadata": {},
   "source": [
    "성공!"
   ]
  },
  {
   "cell_type": "code",
   "execution_count": null,
   "id": "1529c5f9-8f9a-473c-88e7-fc02cc2c47a6",
   "metadata": {},
   "outputs": [],
   "source": []
  }
 ],
 "metadata": {
  "kernelspec": {
   "display_name": "Python 3 (ipykernel)",
   "language": "python",
   "name": "python3"
  },
  "language_info": {
   "codemirror_mode": {
    "name": "ipython",
    "version": 3
   },
   "file_extension": ".py",
   "mimetype": "text/x-python",
   "name": "python",
   "nbconvert_exporter": "python",
   "pygments_lexer": "ipython3",
   "version": "3.11.5"
  }
 },
 "nbformat": 4,
 "nbformat_minor": 5
}
