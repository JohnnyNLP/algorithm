{
 "cells": [
  {
   "cell_type": "markdown",
   "id": "30886791-4c6d-412c-b057-2770d88688c2",
   "metadata": {},
   "source": [
    "https://www.acmicpc.net/problem/1260"
   ]
  },
  {
   "cell_type": "markdown",
   "id": "75e5d085-6c01-459b-90e0-1d22fe261d73",
   "metadata": {},
   "source": [
    "## 문제\n",
    "그래프를 DFS로 탐색한 결과와 BFS로 탐색한 결과를 출력하는 프로그램을 작성하시오. 단, 방문할 수 있는 정점이 여러 개인 경우에는 정점 번호가 작은 것을 먼저 방문하고, 더 이상 방문할 수 있는 점이 없는 경우 종료한다. 정점 번호는 1번부터 N번까지이다.\n",
    "\n",
    "## 입력\n",
    "첫째 줄에 정점의 개수 N(1 ≤ N ≤ 1,000), 간선의 개수 M(1 ≤ M ≤ 10,000), 탐색을 시작할 정점의 번호 V가 주어진다. 다음 M개의 줄에는 간선이 연결하는 두 정점의 번호가 주어진다. 어떤 두 정점 사이에 여러 개의 간선이 있을 수 있다. 입력으로 주어지는 간선은 양방향이다.\n",
    "\n",
    "## 출력\n",
    "첫째 줄에 DFS를 수행한 결과를, 그 다음 줄에는 BFS를 수행한 결과를 출력한다. V부터 방문된 점을 순서대로 출력하면 된다."
   ]
  },
  {
   "cell_type": "code",
   "execution_count": 31,
   "id": "cb1e9182-971b-4074-95fd-570ee54f9019",
   "metadata": {},
   "outputs": [
    {
     "name": "stdin",
     "output_type": "stream",
     "text": [
      " 4 5 1\n",
      " 1 2\n",
      " 1 3\n",
      " 1 4\n",
      " 2 4\n",
      " 3 4\n"
     ]
    }
   ],
   "source": [
    "n, m, v = map(int, input().split())\n",
    "\n",
    "adj = [[] for _ in range(n+1)]\n",
    "visited = [0]*(n+1)\n",
    "ans_dfs = []\n",
    "ans_bfs = []\n",
    "\n",
    "for i in range(m):\n",
    "    v_in, v_out = map(int, input().split())\n",
    "    adj[v_in].append(v_out)\n",
    "    adj[v_out].append(v_in)"
   ]
  },
  {
   "cell_type": "code",
   "execution_count": 46,
   "id": "8e2f04d5-2a3f-473f-a0dc-e5fe6f0ca37d",
   "metadata": {},
   "outputs": [],
   "source": [
    "for i in range(1, n+1):\n",
    "    adj[i].sort()"
   ]
  },
  {
   "cell_type": "code",
   "execution_count": 47,
   "id": "4b6ad4be-7834-40f9-a59f-1e6169222227",
   "metadata": {},
   "outputs": [
    {
     "data": {
      "text/plain": [
       "[[], [2, 3, 4], [1, 4], [1, 4], [1, 2, 3]]"
      ]
     },
     "execution_count": 47,
     "metadata": {},
     "output_type": "execute_result"
    }
   ],
   "source": [
    "adj"
   ]
  },
  {
   "cell_type": "code",
   "execution_count": 34,
   "id": "d9424c33-7668-4c69-bf9c-4745ed2324e3",
   "metadata": {},
   "outputs": [],
   "source": [
    "def dfs(v):\n",
    "    # 단위 작업\n",
    "    visited[v] = 1 # 방문 표시\n",
    "    ans_dfs.append(v) # 방문 노드 추가\n",
    "\n",
    "    # 재귀 호출\n",
    "    for n in adj[v]:\n",
    "        if visited[n] == 0:\n",
    "            dfs(n)"
   ]
  },
  {
   "cell_type": "code",
   "execution_count": 43,
   "id": "197ff7d6-ee09-484a-ada0-4d0ffa349fc5",
   "metadata": {},
   "outputs": [],
   "source": [
    "visited = [0]*(n+1)\n",
    "ans_dfs=[]"
   ]
  },
  {
   "cell_type": "code",
   "execution_count": 44,
   "id": "2d156ce5-8637-4a82-b6d6-1080391a74ce",
   "metadata": {},
   "outputs": [],
   "source": [
    "dfs(v)"
   ]
  },
  {
   "cell_type": "code",
   "execution_count": 48,
   "id": "36b5f0f8-418f-4483-8608-9d0541a7dcc2",
   "metadata": {},
   "outputs": [
    {
     "name": "stdout",
     "output_type": "stream",
     "text": [
      "1 2 4 3\n"
     ]
    }
   ],
   "source": [
    "print(*ans_dfs)"
   ]
  },
  {
   "cell_type": "code",
   "execution_count": 55,
   "id": "739ec2d2-b45d-4248-a90b-b19c61022428",
   "metadata": {},
   "outputs": [],
   "source": [
    "visited = [0]*(n+1)\n",
    "ans_bfs=[]"
   ]
  },
  {
   "cell_type": "code",
   "execution_count": 56,
   "id": "95d866ec-e1ad-4ba3-a4b5-b6ba8f970195",
   "metadata": {},
   "outputs": [],
   "source": [
    "def bfs(v):\n",
    "    # que 생성\n",
    "    que = []\n",
    "    que.append(v)\n",
    "    \n",
    "    # 단위 작업\n",
    "    visited[v] = 1\n",
    "    ans_bfs.append(v)\n",
    "\n",
    "    # que 호출 -> 방문하면 que에서 빼고, 다음 방문 노드를 que에 추가하며 반복\n",
    "    while que:\n",
    "        v = que.pop(0)\n",
    "        for n in adj[v]:\n",
    "            if visited[n] == 0:\n",
    "                que.append(n)\n",
    "                ans_bfs.append(n)\n",
    "                visited[n] = 1"
   ]
  },
  {
   "cell_type": "code",
   "execution_count": 57,
   "id": "f6167a55-2c14-4274-81e4-86c402b21d86",
   "metadata": {},
   "outputs": [],
   "source": [
    "bfs(v)"
   ]
  },
  {
   "cell_type": "code",
   "execution_count": 58,
   "id": "2c336440-e36c-48bf-aa9c-461ec04ed395",
   "metadata": {},
   "outputs": [
    {
     "name": "stdout",
     "output_type": "stream",
     "text": [
      "1 2 3 4\n"
     ]
    }
   ],
   "source": [
    "print(*ans_bfs)"
   ]
  },
  {
   "cell_type": "code",
   "execution_count": null,
   "id": "026c5cbe-af28-4e1c-ae7f-a3cde21cb417",
   "metadata": {},
   "outputs": [],
   "source": []
  }
 ],
 "metadata": {
  "kernelspec": {
   "display_name": "Python 3 (ipykernel)",
   "language": "python",
   "name": "python3"
  },
  "language_info": {
   "codemirror_mode": {
    "name": "ipython",
    "version": 3
   },
   "file_extension": ".py",
   "mimetype": "text/x-python",
   "name": "python",
   "nbconvert_exporter": "python",
   "pygments_lexer": "ipython3",
   "version": "3.11.5"
  }
 },
 "nbformat": 4,
 "nbformat_minor": 5
}
